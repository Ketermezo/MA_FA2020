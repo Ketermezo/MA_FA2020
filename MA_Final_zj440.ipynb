{
 "cells": [
  {
   "cell_type": "code",
   "execution_count": 1,
   "metadata": {},
   "outputs": [],
   "source": [
    "import pandas as pd\n",
    "import matplotlib.pyplot as plt\n",
    "import seaborn as sns"
   ]
  },
  {
   "cell_type": "code",
   "execution_count": 2,
   "metadata": {},
   "outputs": [
    {
     "data": {
      "text/html": [
       "<div>\n",
       "<style scoped>\n",
       "    .dataframe tbody tr th:only-of-type {\n",
       "        vertical-align: middle;\n",
       "    }\n",
       "\n",
       "    .dataframe tbody tr th {\n",
       "        vertical-align: top;\n",
       "    }\n",
       "\n",
       "    .dataframe thead th {\n",
       "        text-align: right;\n",
       "    }\n",
       "</style>\n",
       "<table border=\"1\" class=\"dataframe\">\n",
       "  <thead>\n",
       "    <tr style=\"text-align: right;\">\n",
       "      <th></th>\n",
       "      <th>Unnamed: 0</th>\n",
       "      <th>subid</th>\n",
       "      <th>package_type</th>\n",
       "      <th>num_weekly_services_utilized</th>\n",
       "      <th>preferred_genre</th>\n",
       "      <th>intended_use</th>\n",
       "      <th>weekly_consumption_hour</th>\n",
       "      <th>num_ideal_streaming_services</th>\n",
       "      <th>age</th>\n",
       "      <th>male_TF</th>\n",
       "      <th>...</th>\n",
       "      <th>join_fee</th>\n",
       "      <th>language</th>\n",
       "      <th>payment_type</th>\n",
       "      <th>num_trial_days</th>\n",
       "      <th>current_sub_TF</th>\n",
       "      <th>payment_period</th>\n",
       "      <th>last_payment</th>\n",
       "      <th>next_payment</th>\n",
       "      <th>cancel_date</th>\n",
       "      <th>trial_completed</th>\n",
       "    </tr>\n",
       "  </thead>\n",
       "  <tbody>\n",
       "    <tr>\n",
       "      <th>0</th>\n",
       "      <td>162502</td>\n",
       "      <td>21724479</td>\n",
       "      <td>economy</td>\n",
       "      <td>NaN</td>\n",
       "      <td>comedy</td>\n",
       "      <td>access to exclusive content</td>\n",
       "      <td>NaN</td>\n",
       "      <td>NaN</td>\n",
       "      <td>NaN</td>\n",
       "      <td>False</td>\n",
       "      <td>...</td>\n",
       "      <td>NaN</td>\n",
       "      <td>ar</td>\n",
       "      <td>Standard Charter</td>\n",
       "      <td>14</td>\n",
       "      <td>True</td>\n",
       "      <td>1</td>\n",
       "      <td>2020-02-07 21:44:16</td>\n",
       "      <td>2020-06-07 21:44:16</td>\n",
       "      <td>NaN</td>\n",
       "      <td>True</td>\n",
       "    </tr>\n",
       "    <tr>\n",
       "      <th>1</th>\n",
       "      <td>380374</td>\n",
       "      <td>23383224</td>\n",
       "      <td>base</td>\n",
       "      <td>NaN</td>\n",
       "      <td>comedy</td>\n",
       "      <td>access to exclusive content</td>\n",
       "      <td>22.951579</td>\n",
       "      <td>NaN</td>\n",
       "      <td>70.0</td>\n",
       "      <td>False</td>\n",
       "      <td>...</td>\n",
       "      <td>0.3303</td>\n",
       "      <td>ar</td>\n",
       "      <td>NaN</td>\n",
       "      <td>14</td>\n",
       "      <td>True</td>\n",
       "      <td>1</td>\n",
       "      <td>2020-03-15 15:44:35</td>\n",
       "      <td>2020-07-15 15:44:35</td>\n",
       "      <td>NaN</td>\n",
       "      <td>True</td>\n",
       "    </tr>\n",
       "    <tr>\n",
       "      <th>2</th>\n",
       "      <td>496617</td>\n",
       "      <td>26844789</td>\n",
       "      <td>enhanced</td>\n",
       "      <td>3.0</td>\n",
       "      <td>regional</td>\n",
       "      <td>replace OTT</td>\n",
       "      <td>36.001186</td>\n",
       "      <td>2.0</td>\n",
       "      <td>25.0</td>\n",
       "      <td>True</td>\n",
       "      <td>...</td>\n",
       "      <td>0.1101</td>\n",
       "      <td>ar</td>\n",
       "      <td>NaN</td>\n",
       "      <td>14</td>\n",
       "      <td>False</td>\n",
       "      <td>0</td>\n",
       "      <td>NaN</td>\n",
       "      <td>NaN</td>\n",
       "      <td>NaN</td>\n",
       "      <td>True</td>\n",
       "    </tr>\n",
       "    <tr>\n",
       "      <th>3</th>\n",
       "      <td>356799</td>\n",
       "      <td>29417030</td>\n",
       "      <td>base</td>\n",
       "      <td>NaN</td>\n",
       "      <td>drama</td>\n",
       "      <td>replace OTT</td>\n",
       "      <td>20.051667</td>\n",
       "      <td>NaN</td>\n",
       "      <td>30.0</td>\n",
       "      <td>False</td>\n",
       "      <td>...</td>\n",
       "      <td>0.0367</td>\n",
       "      <td>ar</td>\n",
       "      <td>NaN</td>\n",
       "      <td>14</td>\n",
       "      <td>False</td>\n",
       "      <td>0</td>\n",
       "      <td>NaN</td>\n",
       "      <td>NaN</td>\n",
       "      <td>NaN</td>\n",
       "      <td>True</td>\n",
       "    </tr>\n",
       "    <tr>\n",
       "      <th>4</th>\n",
       "      <td>681701</td>\n",
       "      <td>26723159</td>\n",
       "      <td>base</td>\n",
       "      <td>4.0</td>\n",
       "      <td>comedy</td>\n",
       "      <td>replace OTT</td>\n",
       "      <td>22.951579</td>\n",
       "      <td>3.0</td>\n",
       "      <td>28.0</td>\n",
       "      <td>False</td>\n",
       "      <td>...</td>\n",
       "      <td>0.0367</td>\n",
       "      <td>ar</td>\n",
       "      <td>NaN</td>\n",
       "      <td>14</td>\n",
       "      <td>True</td>\n",
       "      <td>2</td>\n",
       "      <td>2020-02-19 12:57:07</td>\n",
       "      <td>2020-06-19 12:57:07</td>\n",
       "      <td>NaN</td>\n",
       "      <td>True</td>\n",
       "    </tr>\n",
       "  </tbody>\n",
       "</table>\n",
       "<p>5 rows × 31 columns</p>\n",
       "</div>"
      ],
      "text/plain": [
       "   Unnamed: 0     subid package_type  num_weekly_services_utilized  \\\n",
       "0      162502  21724479      economy                           NaN   \n",
       "1      380374  23383224         base                           NaN   \n",
       "2      496617  26844789     enhanced                           3.0   \n",
       "3      356799  29417030         base                           NaN   \n",
       "4      681701  26723159         base                           4.0   \n",
       "\n",
       "  preferred_genre                 intended_use  weekly_consumption_hour  \\\n",
       "0          comedy  access to exclusive content                      NaN   \n",
       "1          comedy  access to exclusive content                22.951579   \n",
       "2        regional                  replace OTT                36.001186   \n",
       "3           drama                  replace OTT                20.051667   \n",
       "4          comedy                  replace OTT                22.951579   \n",
       "\n",
       "   num_ideal_streaming_services   age male_TF  ... join_fee language  \\\n",
       "0                           NaN   NaN   False  ...      NaN       ar   \n",
       "1                           NaN  70.0   False  ...   0.3303       ar   \n",
       "2                           2.0  25.0    True  ...   0.1101       ar   \n",
       "3                           NaN  30.0   False  ...   0.0367       ar   \n",
       "4                           3.0  28.0   False  ...   0.0367       ar   \n",
       "\n",
       "       payment_type num_trial_days  current_sub_TF payment_period  \\\n",
       "0  Standard Charter             14            True              1   \n",
       "1               NaN             14            True              1   \n",
       "2               NaN             14           False              0   \n",
       "3               NaN             14           False              0   \n",
       "4               NaN             14            True              2   \n",
       "\n",
       "          last_payment         next_payment cancel_date trial_completed  \n",
       "0  2020-02-07 21:44:16  2020-06-07 21:44:16         NaN            True  \n",
       "1  2020-03-15 15:44:35  2020-07-15 15:44:35         NaN            True  \n",
       "2                  NaN                  NaN         NaN            True  \n",
       "3                  NaN                  NaN         NaN            True  \n",
       "4  2020-02-19 12:57:07  2020-06-19 12:57:07         NaN            True  \n",
       "\n",
       "[5 rows x 31 columns]"
      ]
     },
     "execution_count": 2,
     "metadata": {},
     "output_type": "execute_result"
    }
   ],
   "source": [
    "df_subscribers = pd.read_csv(\"/Users/awesomezoey/Desktop/MA_FinalProject/subscribers.csv\")\n",
    "df_subscribers.head()"
   ]
  },
  {
   "cell_type": "code",
   "execution_count": 3,
   "metadata": {},
   "outputs": [
    {
     "data": {
      "text/html": [
       "<div>\n",
       "<style scoped>\n",
       "    .dataframe tbody tr th:only-of-type {\n",
       "        vertical-align: middle;\n",
       "    }\n",
       "\n",
       "    .dataframe tbody tr th {\n",
       "        vertical-align: top;\n",
       "    }\n",
       "\n",
       "    .dataframe thead th {\n",
       "        text-align: right;\n",
       "    }\n",
       "</style>\n",
       "<table border=\"1\" class=\"dataframe\">\n",
       "  <thead>\n",
       "    <tr style=\"text-align: right;\">\n",
       "      <th></th>\n",
       "      <th>channel</th>\n",
       "      <th>date</th>\n",
       "      <th>spend_AED</th>\n",
       "    </tr>\n",
       "  </thead>\n",
       "  <tbody>\n",
       "    <tr>\n",
       "      <th>0</th>\n",
       "      <td>bing</td>\n",
       "      <td>201907</td>\n",
       "      <td>400</td>\n",
       "    </tr>\n",
       "    <tr>\n",
       "      <th>1</th>\n",
       "      <td>display</td>\n",
       "      <td>201907</td>\n",
       "      <td>12</td>\n",
       "    </tr>\n",
       "    <tr>\n",
       "      <th>2</th>\n",
       "      <td>facebook</td>\n",
       "      <td>201907</td>\n",
       "      <td>9000</td>\n",
       "    </tr>\n",
       "    <tr>\n",
       "      <th>3</th>\n",
       "      <td>search</td>\n",
       "      <td>201907</td>\n",
       "      <td>13000</td>\n",
       "    </tr>\n",
       "    <tr>\n",
       "      <th>4</th>\n",
       "      <td>youtube</td>\n",
       "      <td>201907</td>\n",
       "      <td>90</td>\n",
       "    </tr>\n",
       "  </tbody>\n",
       "</table>\n",
       "</div>"
      ],
      "text/plain": [
       "    channel    date  spend_AED\n",
       "0      bing  201907        400\n",
       "1   display  201907         12\n",
       "2  facebook  201907       9000\n",
       "3    search  201907      13000\n",
       "4   youtube  201907         90"
      ]
     },
     "execution_count": 3,
     "metadata": {},
     "output_type": "execute_result"
    }
   ],
   "source": [
    "df_channel = pd.read_csv(\"/Users/awesomezoey/Desktop/MA_FinalProject/channel_spend_graduate.csv\")\n",
    "df_channel.head()"
   ]
  },
  {
   "cell_type": "markdown",
   "metadata": {},
   "source": [
    "## Part 1. General Data Description"
   ]
  },
  {
   "cell_type": "code",
   "execution_count": 4,
   "metadata": {},
   "outputs": [
    {
     "name": "stdout",
     "output_type": "stream",
     "text": [
      "<class 'pandas.core.frame.DataFrame'>\n",
      "RangeIndex: 227628 entries, 0 to 227627\n",
      "Data columns (total 31 columns):\n",
      " #   Column                        Non-Null Count   Dtype  \n",
      "---  ------                        --------------   -----  \n",
      " 0   Unnamed: 0                    227628 non-null  int64  \n",
      " 1   subid                         227628 non-null  int64  \n",
      " 2   package_type                  192054 non-null  object \n",
      " 3   num_weekly_services_utilized  117178 non-null  float64\n",
      " 4   preferred_genre               191302 non-null  object \n",
      " 5   intended_use                  224079 non-null  object \n",
      " 6   weekly_consumption_hour       189698 non-null  float64\n",
      " 7   num_ideal_streaming_services  115458 non-null  float64\n",
      " 8   age                           192459 non-null  float64\n",
      " 9   male_TF                       227359 non-null  object \n",
      " 10  country                       227628 non-null  object \n",
      " 11  attribution_technical         227628 non-null  object \n",
      " 12  attribution_survey            224984 non-null  object \n",
      " 13  op_sys                        214253 non-null  object \n",
      " 14  months_per_bill_period        227628 non-null  int64  \n",
      " 15  plan_type                     227628 non-null  object \n",
      " 16  monthly_price                 227628 non-null  float64\n",
      " 17  discount_price                227628 non-null  float64\n",
      " 18  account_creation_date         227628 non-null  object \n",
      " 19  trial_end_date                227628 non-null  object \n",
      " 20  initial_credit_card_declined  227628 non-null  bool   \n",
      " 21  join_fee                      192724 non-null  float64\n",
      " 22  language                      227628 non-null  object \n",
      " 23  payment_type                  92050 non-null   object \n",
      " 24  num_trial_days                227628 non-null  int64  \n",
      " 25  current_sub_TF                227628 non-null  bool   \n",
      " 26  payment_period                227628 non-null  int64  \n",
      " 27  last_payment                  132237 non-null  object \n",
      " 28  next_payment                  130250 non-null  object \n",
      " 29  cancel_date                   36831 non-null   object \n",
      " 30  trial_completed               227628 non-null  bool   \n",
      "dtypes: bool(3), float64(7), int64(5), object(16)\n",
      "memory usage: 49.3+ MB\n"
     ]
    }
   ],
   "source": [
    "df_subscribers.info()"
   ]
  },
  {
   "cell_type": "code",
   "execution_count": 5,
   "metadata": {},
   "outputs": [
    {
     "data": {
      "text/plain": [
       "count    1.924590e+05\n",
       "mean     7.579755e+02\n",
       "std      1.920204e+05\n",
       "min      0.000000e+00\n",
       "25%      3.500000e+01\n",
       "50%      4.600000e+01\n",
       "75%      5.700000e+01\n",
       "max      8.172000e+07\n",
       "Name: age, dtype: float64"
      ]
     },
     "execution_count": 5,
     "metadata": {},
     "output_type": "execute_result"
    }
   ],
   "source": [
    "df_subscribers[\"age\"].describe()"
   ]
  },
  {
   "cell_type": "code",
   "execution_count": 6,
   "metadata": {},
   "outputs": [
    {
     "name": "stdout",
     "output_type": "stream",
     "text": [
      "Unnamed: 0 | int64 | 0\n",
      "subid | int64 | 0\n",
      "package_type | object | 35574\n",
      "num_weekly_services_utilized | float64 | 110450\n",
      "preferred_genre | object | 36326\n",
      "intended_use | object | 3549\n",
      "weekly_consumption_hour | float64 | 37930\n",
      "num_ideal_streaming_services | float64 | 112170\n",
      "age | float64 | 35169\n",
      "male_TF | object | 269\n",
      "country | object | 0\n",
      "attribution_technical | object | 0\n",
      "attribution_survey | object | 2644\n",
      "op_sys | object | 13375\n",
      "months_per_bill_period | int64 | 0\n",
      "plan_type | object | 0\n",
      "monthly_price | float64 | 0\n",
      "discount_price | float64 | 0\n",
      "account_creation_date | object | 0\n",
      "trial_end_date | object | 0\n",
      "initial_credit_card_declined | bool | 0\n",
      "join_fee | float64 | 34904\n",
      "language | object | 0\n",
      "payment_type | object | 135578\n",
      "num_trial_days | int64 | 0\n",
      "current_sub_TF | bool | 0\n",
      "payment_period | int64 | 0\n",
      "last_payment | object | 95391\n",
      "next_payment | object | 97378\n",
      "cancel_date | object | 190797\n",
      "trial_completed | bool | 0\n"
     ]
    }
   ],
   "source": [
    "for i in df_subscribers.columns:\n",
    "    print(i, \"|\",df_subscribers[i].dtype, \"|\",df_subscribers[i].isnull().sum())"
   ]
  },
  {
   "cell_type": "code",
   "execution_count": 7,
   "metadata": {},
   "outputs": [
    {
     "data": {
      "text/plain": [
       "pandas.core.indexes.base.Index"
      ]
     },
     "execution_count": 7,
     "metadata": {},
     "output_type": "execute_result"
    }
   ],
   "source": [
    "type(df_subscribers.columns)"
   ]
  },
  {
   "cell_type": "code",
   "execution_count": 8,
   "metadata": {},
   "outputs": [
    {
     "name": "stdout",
     "output_type": "stream",
     "text": [
      "<class 'pandas.core.frame.DataFrame'>\n",
      "RangeIndex: 40 entries, 0 to 39\n",
      "Data columns (total 3 columns):\n",
      " #   Column     Non-Null Count  Dtype \n",
      "---  ------     --------------  ----- \n",
      " 0   channel    40 non-null     object\n",
      " 1   date       40 non-null     int64 \n",
      " 2   spend_AED  40 non-null     int64 \n",
      "dtypes: int64(2), object(1)\n",
      "memory usage: 1.1+ KB\n"
     ]
    }
   ],
   "source": [
    "df_channel.info()"
   ]
  },
  {
   "cell_type": "code",
   "execution_count": 9,
   "metadata": {},
   "outputs": [
    {
     "data": {
      "text/plain": [
       "array([201907, 201908, 201909, 201910, 201911, 201912, 202001, 202002])"
      ]
     },
     "execution_count": 9,
     "metadata": {},
     "output_type": "execute_result"
    }
   ],
   "source": [
    "df_channel[\"date\"].unique()"
   ]
  },
  {
   "cell_type": "code",
   "execution_count": 10,
   "metadata": {},
   "outputs": [
    {
     "data": {
      "text/html": [
       "<div>\n",
       "<style scoped>\n",
       "    .dataframe tbody tr th:only-of-type {\n",
       "        vertical-align: middle;\n",
       "    }\n",
       "\n",
       "    .dataframe tbody tr th {\n",
       "        vertical-align: top;\n",
       "    }\n",
       "\n",
       "    .dataframe thead th {\n",
       "        text-align: right;\n",
       "    }\n",
       "</style>\n",
       "<table border=\"1\" class=\"dataframe\">\n",
       "  <thead>\n",
       "    <tr style=\"text-align: right;\">\n",
       "      <th></th>\n",
       "      <th>Unnamed: 0</th>\n",
       "      <th>subid</th>\n",
       "      <th>num_weekly_services_utilized</th>\n",
       "      <th>weekly_consumption_hour</th>\n",
       "      <th>num_ideal_streaming_services</th>\n",
       "      <th>age</th>\n",
       "      <th>months_per_bill_period</th>\n",
       "      <th>monthly_price</th>\n",
       "      <th>discount_price</th>\n",
       "      <th>join_fee</th>\n",
       "      <th>num_trial_days</th>\n",
       "      <th>payment_period</th>\n",
       "    </tr>\n",
       "  </thead>\n",
       "  <tbody>\n",
       "    <tr>\n",
       "      <th>count</th>\n",
       "      <td>227628.000000</td>\n",
       "      <td>2.276280e+05</td>\n",
       "      <td>117178.000000</td>\n",
       "      <td>189698.000000</td>\n",
       "      <td>115458.000000</td>\n",
       "      <td>1.924590e+05</td>\n",
       "      <td>227628.0</td>\n",
       "      <td>227628.000000</td>\n",
       "      <td>227628.000000</td>\n",
       "      <td>192724.000000</td>\n",
       "      <td>227628.000000</td>\n",
       "      <td>227628.000000</td>\n",
       "    </tr>\n",
       "    <tr>\n",
       "      <th>mean</th>\n",
       "      <td>341129.200041</td>\n",
       "      <td>2.498624e+07</td>\n",
       "      <td>3.008824</td>\n",
       "      <td>27.997724</td>\n",
       "      <td>2.061260</td>\n",
       "      <td>7.579755e+02</td>\n",
       "      <td>4.0</td>\n",
       "      <td>4.732049</td>\n",
       "      <td>4.512188</td>\n",
       "      <td>0.115145</td>\n",
       "      <td>13.989544</td>\n",
       "      <td>0.790122</td>\n",
       "    </tr>\n",
       "    <tr>\n",
       "      <th>std</th>\n",
       "      <td>197094.201084</td>\n",
       "      <td>2.885543e+06</td>\n",
       "      <td>0.820526</td>\n",
       "      <td>4.976341</td>\n",
       "      <td>0.245907</td>\n",
       "      <td>1.920204e+05</td>\n",
       "      <td>0.0</td>\n",
       "      <td>0.101049</td>\n",
       "      <td>0.097078</td>\n",
       "      <td>0.176971</td>\n",
       "      <td>0.382453</td>\n",
       "      <td>0.777713</td>\n",
       "    </tr>\n",
       "    <tr>\n",
       "      <th>min</th>\n",
       "      <td>1.000000</td>\n",
       "      <td>2.000001e+07</td>\n",
       "      <td>0.000000</td>\n",
       "      <td>-32.146760</td>\n",
       "      <td>-1.000000</td>\n",
       "      <td>0.000000e+00</td>\n",
       "      <td>4.0</td>\n",
       "      <td>0.807400</td>\n",
       "      <td>0.770700</td>\n",
       "      <td>-0.660600</td>\n",
       "      <td>0.000000</td>\n",
       "      <td>0.000000</td>\n",
       "    </tr>\n",
       "    <tr>\n",
       "      <th>25%</th>\n",
       "      <td>170766.250000</td>\n",
       "      <td>2.248998e+07</td>\n",
       "      <td>2.000000</td>\n",
       "      <td>24.401536</td>\n",
       "      <td>2.000000</td>\n",
       "      <td>3.500000e+01</td>\n",
       "      <td>4.0</td>\n",
       "      <td>4.734300</td>\n",
       "      <td>4.514100</td>\n",
       "      <td>0.036700</td>\n",
       "      <td>14.000000</td>\n",
       "      <td>0.000000</td>\n",
       "    </tr>\n",
       "    <tr>\n",
       "      <th>50%</th>\n",
       "      <td>340985.500000</td>\n",
       "      <td>2.497011e+07</td>\n",
       "      <td>3.000000</td>\n",
       "      <td>27.301448</td>\n",
       "      <td>2.000000</td>\n",
       "      <td>4.600000e+01</td>\n",
       "      <td>4.0</td>\n",
       "      <td>4.734300</td>\n",
       "      <td>4.514100</td>\n",
       "      <td>0.036700</td>\n",
       "      <td>14.000000</td>\n",
       "      <td>1.000000</td>\n",
       "    </tr>\n",
       "    <tr>\n",
       "      <th>75%</th>\n",
       "      <td>511844.000000</td>\n",
       "      <td>2.749020e+07</td>\n",
       "      <td>3.000000</td>\n",
       "      <td>30.201361</td>\n",
       "      <td>2.000000</td>\n",
       "      <td>5.700000e+01</td>\n",
       "      <td>4.0</td>\n",
       "      <td>4.734300</td>\n",
       "      <td>4.514100</td>\n",
       "      <td>0.110100</td>\n",
       "      <td>14.000000</td>\n",
       "      <td>1.000000</td>\n",
       "    </tr>\n",
       "    <tr>\n",
       "      <th>max</th>\n",
       "      <td>682885.000000</td>\n",
       "      <td>2.999998e+07</td>\n",
       "      <td>14.000000</td>\n",
       "      <td>76.599962</td>\n",
       "      <td>7.000000</td>\n",
       "      <td>8.172000e+07</td>\n",
       "      <td>4.0</td>\n",
       "      <td>5.101300</td>\n",
       "      <td>5.027900</td>\n",
       "      <td>0.734000</td>\n",
       "      <td>14.000000</td>\n",
       "      <td>3.000000</td>\n",
       "    </tr>\n",
       "  </tbody>\n",
       "</table>\n",
       "</div>"
      ],
      "text/plain": [
       "          Unnamed: 0         subid  num_weekly_services_utilized  \\\n",
       "count  227628.000000  2.276280e+05                 117178.000000   \n",
       "mean   341129.200041  2.498624e+07                      3.008824   \n",
       "std    197094.201084  2.885543e+06                      0.820526   \n",
       "min         1.000000  2.000001e+07                      0.000000   \n",
       "25%    170766.250000  2.248998e+07                      2.000000   \n",
       "50%    340985.500000  2.497011e+07                      3.000000   \n",
       "75%    511844.000000  2.749020e+07                      3.000000   \n",
       "max    682885.000000  2.999998e+07                     14.000000   \n",
       "\n",
       "       weekly_consumption_hour  num_ideal_streaming_services           age  \\\n",
       "count            189698.000000                 115458.000000  1.924590e+05   \n",
       "mean                 27.997724                      2.061260  7.579755e+02   \n",
       "std                   4.976341                      0.245907  1.920204e+05   \n",
       "min                 -32.146760                     -1.000000  0.000000e+00   \n",
       "25%                  24.401536                      2.000000  3.500000e+01   \n",
       "50%                  27.301448                      2.000000  4.600000e+01   \n",
       "75%                  30.201361                      2.000000  5.700000e+01   \n",
       "max                  76.599962                      7.000000  8.172000e+07   \n",
       "\n",
       "       months_per_bill_period  monthly_price  discount_price       join_fee  \\\n",
       "count                227628.0  227628.000000   227628.000000  192724.000000   \n",
       "mean                      4.0       4.732049        4.512188       0.115145   \n",
       "std                       0.0       0.101049        0.097078       0.176971   \n",
       "min                       4.0       0.807400        0.770700      -0.660600   \n",
       "25%                       4.0       4.734300        4.514100       0.036700   \n",
       "50%                       4.0       4.734300        4.514100       0.036700   \n",
       "75%                       4.0       4.734300        4.514100       0.110100   \n",
       "max                       4.0       5.101300        5.027900       0.734000   \n",
       "\n",
       "       num_trial_days  payment_period  \n",
       "count   227628.000000   227628.000000  \n",
       "mean        13.989544        0.790122  \n",
       "std          0.382453        0.777713  \n",
       "min          0.000000        0.000000  \n",
       "25%         14.000000        0.000000  \n",
       "50%         14.000000        1.000000  \n",
       "75%         14.000000        1.000000  \n",
       "max         14.000000        3.000000  "
      ]
     },
     "execution_count": 10,
     "metadata": {},
     "output_type": "execute_result"
    }
   ],
   "source": [
    "df_subscribers.describe()"
   ]
  },
  {
   "cell_type": "code",
   "execution_count": 11,
   "metadata": {},
   "outputs": [
    {
     "data": {
      "text/html": [
       "<div>\n",
       "<style scoped>\n",
       "    .dataframe tbody tr th:only-of-type {\n",
       "        vertical-align: middle;\n",
       "    }\n",
       "\n",
       "    .dataframe tbody tr th {\n",
       "        vertical-align: top;\n",
       "    }\n",
       "\n",
       "    .dataframe thead th {\n",
       "        text-align: right;\n",
       "    }\n",
       "</style>\n",
       "<table border=\"1\" class=\"dataframe\">\n",
       "  <thead>\n",
       "    <tr style=\"text-align: right;\">\n",
       "      <th></th>\n",
       "      <th>date</th>\n",
       "      <th>spend_AED</th>\n",
       "    </tr>\n",
       "  </thead>\n",
       "  <tbody>\n",
       "    <tr>\n",
       "      <th>count</th>\n",
       "      <td>40.000000</td>\n",
       "      <td>40.000000</td>\n",
       "    </tr>\n",
       "    <tr>\n",
       "      <th>mean</th>\n",
       "      <td>201932.500000</td>\n",
       "      <td>8897.400000</td>\n",
       "    </tr>\n",
       "    <tr>\n",
       "      <th>std</th>\n",
       "      <td>40.373258</td>\n",
       "      <td>12161.404319</td>\n",
       "    </tr>\n",
       "    <tr>\n",
       "      <th>min</th>\n",
       "      <td>201907.000000</td>\n",
       "      <td>12.000000</td>\n",
       "    </tr>\n",
       "    <tr>\n",
       "      <th>25%</th>\n",
       "      <td>201908.750000</td>\n",
       "      <td>143.500000</td>\n",
       "    </tr>\n",
       "    <tr>\n",
       "      <th>50%</th>\n",
       "      <td>201910.500000</td>\n",
       "      <td>1700.000000</td>\n",
       "    </tr>\n",
       "    <tr>\n",
       "      <th>75%</th>\n",
       "      <td>201934.250000</td>\n",
       "      <td>14500.000000</td>\n",
       "    </tr>\n",
       "    <tr>\n",
       "      <th>max</th>\n",
       "      <td>202002.000000</td>\n",
       "      <td>44000.000000</td>\n",
       "    </tr>\n",
       "  </tbody>\n",
       "</table>\n",
       "</div>"
      ],
      "text/plain": [
       "                date     spend_AED\n",
       "count      40.000000     40.000000\n",
       "mean   201932.500000   8897.400000\n",
       "std        40.373258  12161.404319\n",
       "min    201907.000000     12.000000\n",
       "25%    201908.750000    143.500000\n",
       "50%    201910.500000   1700.000000\n",
       "75%    201934.250000  14500.000000\n",
       "max    202002.000000  44000.000000"
      ]
     },
     "execution_count": 11,
     "metadata": {},
     "output_type": "execute_result"
    }
   ],
   "source": [
    "df_channel.describe()"
   ]
  },
  {
   "cell_type": "code",
   "execution_count": 12,
   "metadata": {},
   "outputs": [
    {
     "name": "stdout",
     "output_type": "stream",
     "text": [
      "<class 'pandas.core.frame.DataFrame'>\n",
      "RangeIndex: 227628 entries, 0 to 227627\n",
      "Data columns (total 31 columns):\n",
      " #   Column                        Non-Null Count   Dtype  \n",
      "---  ------                        --------------   -----  \n",
      " 0   Unnamed: 0                    227628 non-null  int64  \n",
      " 1   subid                         227628 non-null  int64  \n",
      " 2   package_type                  192054 non-null  object \n",
      " 3   num_weekly_services_utilized  117178 non-null  float64\n",
      " 4   preferred_genre               191302 non-null  object \n",
      " 5   intended_use                  224079 non-null  object \n",
      " 6   weekly_consumption_hour       189698 non-null  float64\n",
      " 7   num_ideal_streaming_services  115458 non-null  float64\n",
      " 8   age                           192459 non-null  float64\n",
      " 9   male_TF                       227359 non-null  object \n",
      " 10  country                       227628 non-null  object \n",
      " 11  attribution_technical         227628 non-null  object \n",
      " 12  attribution_survey            224984 non-null  object \n",
      " 13  op_sys                        214253 non-null  object \n",
      " 14  months_per_bill_period        227628 non-null  int64  \n",
      " 15  plan_type                     227628 non-null  object \n",
      " 16  monthly_price                 227628 non-null  float64\n",
      " 17  discount_price                227628 non-null  float64\n",
      " 18  account_creation_date         227628 non-null  object \n",
      " 19  trial_end_date                227628 non-null  object \n",
      " 20  initial_credit_card_declined  227628 non-null  bool   \n",
      " 21  join_fee                      192724 non-null  float64\n",
      " 22  language                      227628 non-null  object \n",
      " 23  payment_type                  92050 non-null   object \n",
      " 24  num_trial_days                227628 non-null  int64  \n",
      " 25  current_sub_TF                227628 non-null  bool   \n",
      " 26  payment_period                227628 non-null  int64  \n",
      " 27  last_payment                  132237 non-null  object \n",
      " 28  next_payment                  130250 non-null  object \n",
      " 29  cancel_date                   36831 non-null   object \n",
      " 30  trial_completed               227628 non-null  bool   \n",
      "dtypes: bool(3), float64(7), int64(5), object(16)\n",
      "memory usage: 49.3+ MB\n"
     ]
    }
   ],
   "source": [
    "df_subscribers.info()"
   ]
  },
  {
   "cell_type": "code",
   "execution_count": 13,
   "metadata": {},
   "outputs": [
    {
     "data": {
      "text/plain": [
       "Unnamed: 0                           0\n",
       "subid                                0\n",
       "package_type                     35574\n",
       "num_weekly_services_utilized         0\n",
       "preferred_genre                  36326\n",
       "intended_use                      3549\n",
       "weekly_consumption_hour              0\n",
       "num_ideal_streaming_services         0\n",
       "age                              35169\n",
       "male_TF                            269\n",
       "country                              0\n",
       "attribution_technical                0\n",
       "attribution_survey                2644\n",
       "op_sys                           13375\n",
       "months_per_bill_period               0\n",
       "plan_type                            0\n",
       "monthly_price                        0\n",
       "discount_price                       0\n",
       "account_creation_date                0\n",
       "trial_end_date                       0\n",
       "initial_credit_card_declined         0\n",
       "join_fee                             0\n",
       "language                             0\n",
       "payment_type                    135578\n",
       "num_trial_days                       0\n",
       "current_sub_TF                       0\n",
       "payment_period                       0\n",
       "last_payment                     95391\n",
       "next_payment                     97378\n",
       "cancel_date                     190797\n",
       "trial_completed                      0\n",
       "dtype: int64"
      ]
     },
     "execution_count": 13,
     "metadata": {},
     "output_type": "execute_result"
    }
   ],
   "source": [
    "#Replace NaN with 0\n",
    "\n",
    "#number of OTT services currently subscribed to, self-reported upon signup\n",
    "df_subscribers['num_weekly_services_utilized'] = df_subscribers['num_weekly_services_utilized'].fillna(0)\n",
    "\n",
    "#number of television or movies consumed per week, self-reported upon signup\n",
    "df_subscribers['weekly_consumption_hour'] = df_subscribers['weekly_consumption_hour'].fillna(0)\n",
    "\n",
    "#subscriber's target number of services (Mevod, Starz, etc.) subscribed to, self-reported upon signup\n",
    "df_subscribers['num_ideal_streaming_services'] = df_subscribers['num_ideal_streaming_services'].fillna(0)\n",
    "\n",
    "#amount user paid to sign up\n",
    "df_subscribers['join_fee'] = df_subscribers['join_fee'].fillna(0)\n",
    "\n",
    "df_subscribers.isnull().sum()"
   ]
  },
  {
   "cell_type": "code",
   "execution_count": 14,
   "metadata": {},
   "outputs": [
    {
     "data": {
      "text/plain": [
       "81720000.0"
      ]
     },
     "execution_count": 14,
     "metadata": {},
     "output_type": "execute_result"
    }
   ],
   "source": [
    "#Age\n",
    "df_subscribers['age'].max()"
   ]
  },
  {
   "cell_type": "code",
   "execution_count": 15,
   "metadata": {},
   "outputs": [
    {
     "name": "stdout",
     "output_type": "stream",
     "text": [
      "Max of age: 108.0\n",
      "Mean of age: 46.1604735652309\n"
     ]
    }
   ],
   "source": [
    "df_subscribers['age'].values[df_subscribers['age'].values > 120] = None\n",
    "print(\"Max of age:\", df_subscribers['age'].max())\n",
    "print(\"Mean of age:\", df_subscribers['age'].mean())"
   ]
  },
  {
   "cell_type": "code",
   "execution_count": 16,
   "metadata": {},
   "outputs": [
    {
     "data": {
      "text/plain": [
       "46.160398557249536"
      ]
     },
     "execution_count": 16,
     "metadata": {},
     "output_type": "execute_result"
    }
   ],
   "source": [
    "#Using the mean = 46.16 to fill the NA values\n",
    "df_subscribers['age'] = df_subscribers['age'].fillna(46.16)\n",
    "df_subscribers['age'].mean()"
   ]
  },
  {
   "cell_type": "code",
   "execution_count": 17,
   "metadata": {},
   "outputs": [
    {
     "data": {
      "text/plain": [
       "array(['access to exclusive content', 'replace OTT',\n",
       "       'expand regional access', 'supplement OTT',\n",
       "       'expand international access', 'education', 'other', nan],\n",
       "      dtype=object)"
      ]
     },
     "execution_count": 17,
     "metadata": {},
     "output_type": "execute_result"
    }
   ],
   "source": [
    "df_subscribers['intended_use'].unique()"
   ]
  },
  {
   "cell_type": "code",
   "execution_count": 18,
   "metadata": {},
   "outputs": [
    {
     "data": {
      "text/plain": [
       "Unnamed: 0                           0\n",
       "subid                                0\n",
       "package_type                         0\n",
       "num_weekly_services_utilized         0\n",
       "preferred_genre                      0\n",
       "intended_use                         0\n",
       "weekly_consumption_hour              0\n",
       "num_ideal_streaming_services         0\n",
       "age                                  0\n",
       "male_TF                              0\n",
       "country                              0\n",
       "attribution_technical                0\n",
       "attribution_survey                   0\n",
       "op_sys                               0\n",
       "months_per_bill_period               0\n",
       "plan_type                            0\n",
       "monthly_price                        0\n",
       "discount_price                       0\n",
       "account_creation_date                0\n",
       "trial_end_date                       0\n",
       "initial_credit_card_declined         0\n",
       "join_fee                             0\n",
       "language                             0\n",
       "payment_type                         0\n",
       "num_trial_days                       0\n",
       "current_sub_TF                       0\n",
       "payment_period                       0\n",
       "last_payment                     95391\n",
       "next_payment                     97378\n",
       "cancel_date                     190797\n",
       "trial_completed                      0\n",
       "dtype: int64"
      ]
     },
     "execution_count": 18,
     "metadata": {},
     "output_type": "execute_result"
    }
   ],
   "source": [
    "df_subscribers[[\"package_type\",'preferred_genre','intended_use',\n",
    "               'male_TF','attribution_survey',\"op_sys\",'payment_type']]=df_subscribers[[\"package_type\",'preferred_genre','intended_use',\n",
    "               'male_TF','attribution_survey',\"op_sys\",'payment_type']].fillna(\"Unknown\")\n",
    "df_subscribers.isnull().sum()"
   ]
  },
  {
   "cell_type": "markdown",
   "metadata": {},
   "source": [
    "### A/B Testing"
   ]
  },
  {
   "cell_type": "code",
   "execution_count": 19,
   "metadata": {},
   "outputs": [],
   "source": [
    "subs=df_subscribers.copy()\n",
    "del subs[\"last_payment\"]\n",
    "del subs[\"next_payment\"]"
   ]
  },
  {
   "cell_type": "code",
   "execution_count": 25,
   "metadata": {},
   "outputs": [],
   "source": [
    "subs.isnull().sum()\n",
    "subs['cancel_date'].values[subs['cancel_date'].values != \"nan\"] = True"
   ]
  },
  {
   "cell_type": "code",
   "execution_count": 32,
   "metadata": {},
   "outputs": [
    {
     "data": {
      "text/plain": [
       "base_uae_14_day_trial                227096\n",
       "high_uae_14_day_trial                   325\n",
       "low_uae_no_trial                        167\n",
       "base_eur_14_day_trial                    18\n",
       "high_sar_14_day_trial                    12\n",
       "low_gbp_14_day_trial                      4\n",
       "high_aud_14_day_trial                     2\n",
       "low_sar_no_trial                          1\n",
       "low_eur_no_trial                          1\n",
       "high_jpy_14_day_trial                     1\n",
       "base_uae_no_trial_7_day_guarantee         1\n",
       "Name: plan_type, dtype: int64"
      ]
     },
     "execution_count": 32,
     "metadata": {},
     "output_type": "execute_result"
    }
   ],
   "source": [
    "subs[\"plan_type\"].value_counts()"
   ]
  },
  {
   "cell_type": "markdown",
   "metadata": {},
   "source": [
    "### Clustering"
   ]
  },
  {
   "cell_type": "code",
   "execution_count": 35,
   "metadata": {},
   "outputs": [],
   "source": [
    "import pandas as pd\n",
    "import numpy as np \n",
    "import matplotlib.pyplot as plt\n",
    "from sklearn.cluster import KMeans"
   ]
  },
  {
   "cell_type": "code",
   "execution_count": 44,
   "metadata": {},
   "outputs": [
    {
     "name": "stdout",
     "output_type": "stream",
     "text": [
      "<class 'pandas.core.frame.DataFrame'>\n",
      "RangeIndex: 227628 entries, 0 to 227627\n",
      "Data columns (total 29 columns):\n",
      " #   Column                        Non-Null Count   Dtype  \n",
      "---  ------                        --------------   -----  \n",
      " 0   Unnamed: 0                    227628 non-null  int64  \n",
      " 1   subid                         227628 non-null  int64  \n",
      " 2   package_type                  227628 non-null  object \n",
      " 3   num_weekly_services_utilized  227628 non-null  float64\n",
      " 4   preferred_genre               227628 non-null  object \n",
      " 5   intended_use                  227628 non-null  object \n",
      " 6   weekly_consumption_hour       227628 non-null  float64\n",
      " 7   num_ideal_streaming_services  227628 non-null  float64\n",
      " 8   age                           227628 non-null  float64\n",
      " 9   male_TF                       227628 non-null  object \n",
      " 10  country                       227628 non-null  object \n",
      " 11  attribution_technical         227628 non-null  object \n",
      " 12  attribution_survey            227628 non-null  object \n",
      " 13  op_sys                        227628 non-null  object \n",
      " 14  months_per_bill_period        227628 non-null  int64  \n",
      " 15  plan_type                     227628 non-null  object \n",
      " 16  monthly_price                 227628 non-null  float64\n",
      " 17  discount_price                227628 non-null  float64\n",
      " 18  account_creation_date         227628 non-null  object \n",
      " 19  trial_end_date                227628 non-null  object \n",
      " 20  initial_credit_card_declined  227628 non-null  bool   \n",
      " 21  join_fee                      227628 non-null  float64\n",
      " 22  language                      227628 non-null  object \n",
      " 23  payment_type                  227628 non-null  object \n",
      " 24  num_trial_days                227628 non-null  int64  \n",
      " 25  current_sub_TF                227628 non-null  bool   \n",
      " 26  payment_period                227628 non-null  int64  \n",
      " 27  cancel_date                   227628 non-null  object \n",
      " 28  trial_completed               227628 non-null  bool   \n",
      "dtypes: bool(3), float64(7), int64(5), object(14)\n",
      "memory usage: 45.8+ MB\n"
     ]
    }
   ],
   "source": [
    "subs.info()\n",
    "subs=subs.append(pd.get_dummies(subs[\"package_type\"]))"
   ]
  },
  {
   "cell_type": "code",
   "execution_count": 46,
   "metadata": {},
   "outputs": [
    {
     "name": "stdout",
     "output_type": "stream",
     "text": [
      "<class 'pandas.core.frame.DataFrame'>\n",
      "Int64Index: 455256 entries, 0 to 227627\n",
      "Data columns (total 33 columns):\n",
      " #   Column                        Non-Null Count   Dtype  \n",
      "---  ------                        --------------   -----  \n",
      " 0   Unnamed: 0                    227628 non-null  float64\n",
      " 1   subid                         227628 non-null  float64\n",
      " 2   package_type                  227628 non-null  object \n",
      " 3   num_weekly_services_utilized  227628 non-null  float64\n",
      " 4   preferred_genre               227628 non-null  object \n",
      " 5   intended_use                  227628 non-null  object \n",
      " 6   weekly_consumption_hour       227628 non-null  float64\n",
      " 7   num_ideal_streaming_services  227628 non-null  float64\n",
      " 8   age                           227628 non-null  float64\n",
      " 9   male_TF                       227628 non-null  object \n",
      " 10  country                       227628 non-null  object \n",
      " 11  attribution_technical         227628 non-null  object \n",
      " 12  attribution_survey            227628 non-null  object \n",
      " 13  op_sys                        227628 non-null  object \n",
      " 14  months_per_bill_period        227628 non-null  float64\n",
      " 15  plan_type                     227628 non-null  object \n",
      " 16  monthly_price                 227628 non-null  float64\n",
      " 17  discount_price                227628 non-null  float64\n",
      " 18  account_creation_date         227628 non-null  object \n",
      " 19  trial_end_date                227628 non-null  object \n",
      " 20  initial_credit_card_declined  227628 non-null  object \n",
      " 21  join_fee                      227628 non-null  float64\n",
      " 22  language                      227628 non-null  object \n",
      " 23  payment_type                  227628 non-null  object \n",
      " 24  num_trial_days                227628 non-null  float64\n",
      " 25  current_sub_TF                227628 non-null  object \n",
      " 26  payment_period                227628 non-null  float64\n",
      " 27  cancel_date                   227628 non-null  object \n",
      " 28  trial_completed               227628 non-null  object \n",
      " 29  Unknown                       227628 non-null  float64\n",
      " 30  base                          227628 non-null  float64\n",
      " 31  economy                       227628 non-null  float64\n",
      " 32  enhanced                      227628 non-null  float64\n",
      "dtypes: float64(16), object(17)\n",
      "memory usage: 118.1+ MB\n"
     ]
    }
   ],
   "source": [
    "subs.info()\n",
    "subs=subs.append(pd.get_dummies(subs[\"language\"]))\n",
    "subs=subs.append(pd.get_dummies(subs[\"payment_type\"]))"
   ]
  },
  {
   "cell_type": "code",
   "execution_count": 48,
   "metadata": {},
   "outputs": [],
   "source": [
    "subs=subs.append(pd.get_dummies(subs[\"preferred_genre\"]))\n",
    "subs=subs.append(pd.get_dummies(subs[\"intended_use\"]))"
   ]
  },
  {
   "cell_type": "code",
   "execution_count": 54,
   "metadata": {},
   "outputs": [
    {
     "name": "stdout",
     "output_type": "stream",
     "text": [
      "<class 'pandas.core.frame.DataFrame'>\n",
      "Int64Index: 7284096 entries, 0 to 227627\n",
      "Data columns (total 39 columns):\n",
      " #   Column                        Dtype  \n",
      "---  ------                        -----  \n",
      " 0   Unnamed: 0                    float64\n",
      " 1   subid                         float64\n",
      " 2   num_weekly_services_utilized  float64\n",
      " 3   weekly_consumption_hour       float64\n",
      " 4   num_ideal_streaming_services  float64\n",
      " 5   age                           float64\n",
      " 6   months_per_bill_period        float64\n",
      " 7   monthly_price                 float64\n",
      " 8   discount_price                float64\n",
      " 9   join_fee                      float64\n",
      " 10  language                      object \n",
      " 11  payment_type                  object \n",
      " 12  num_trial_days                float64\n",
      " 13  current_sub_TF                object \n",
      " 14  payment_period                float64\n",
      " 15  cancel_date                   object \n",
      " 16  trial_completed               object \n",
      " 17  Unknown                       float64\n",
      " 18  base                          float64\n",
      " 19  economy                       float64\n",
      " 20  enhanced                      float64\n",
      " 21  ar                            float64\n",
      " 22  Apple Pay                     float64\n",
      " 23  CBD                           float64\n",
      " 24  Najim                         float64\n",
      " 25  Paypal                        float64\n",
      " 26  RAKBANK                       float64\n",
      " 27  Standard Charter              float64\n",
      " 28  comedy                        float64\n",
      " 29  drama                         float64\n",
      " 30  international                 float64\n",
      " 31  other                         float64\n",
      " 32  regional                      float64\n",
      " 33  access to exclusive content   float64\n",
      " 34  education                     float64\n",
      " 35  expand international access   float64\n",
      " 36  expand regional access        float64\n",
      " 37  replace OTT                   float64\n",
      " 38  supplement OTT                float64\n",
      "dtypes: float64(34), object(5)\n",
      "memory usage: 2.2+ GB\n"
     ]
    }
   ],
   "source": [
    "#del subs[\"package_type\"]\n",
    "del subs[\"preferred_genre\"]\n",
    "del subs[\"intended_use\"]\n",
    "del subs[\"male_TF\"]\n",
    "del subs[\"country\"]\n",
    "del subs[\"attribution_technical\"]\n",
    "del subs[\"attribution_survey\"]\n",
    "del subs[\"op_sys\"]\n",
    "del subs[\"plan_type\"]\n",
    "del subs[\"account_creation_date\"]\n",
    "del subs[\"trial_end_date\"]\n",
    "del subs[\"initial_credit_card_declined\"]\n",
    "subs.info()"
   ]
  },
  {
   "cell_type": "code",
   "execution_count": 57,
   "metadata": {},
   "outputs": [],
   "source": [
    "#del subs[\"language\"]\n",
    "#del subs[\"payment_type\"]\n",
    "#del subs[\"cancel_date\"]\n",
    "del subs[\"trial_completed\"]\n",
    "subs=subs.append(pd.get_dummies(subs[\"current_sub_TF\"]))\n",
    "del subs[\"current_sub_TF\"]"
   ]
  },
  {
   "cell_type": "code",
   "execution_count": 62,
   "metadata": {},
   "outputs": [
    {
     "ename": "KeyError",
     "evalue": "'False'",
     "output_type": "error",
     "traceback": [
      "\u001b[0;31m---------------------------------------------------------------------------\u001b[0m",
      "\u001b[0;31mKeyError\u001b[0m                                  Traceback (most recent call last)",
      "\u001b[0;32m~/Anaconda_Related/anaconda3/lib/python3.8/site-packages/pandas/core/indexes/base.py\u001b[0m in \u001b[0;36mget_loc\u001b[0;34m(self, key, method, tolerance)\u001b[0m\n\u001b[1;32m   2888\u001b[0m             \u001b[0;32mtry\u001b[0m\u001b[0;34m:\u001b[0m\u001b[0;34m\u001b[0m\u001b[0;34m\u001b[0m\u001b[0m\n\u001b[0;32m-> 2889\u001b[0;31m                 \u001b[0;32mreturn\u001b[0m \u001b[0mself\u001b[0m\u001b[0;34m.\u001b[0m\u001b[0m_engine\u001b[0m\u001b[0;34m.\u001b[0m\u001b[0mget_loc\u001b[0m\u001b[0;34m(\u001b[0m\u001b[0mcasted_key\u001b[0m\u001b[0;34m)\u001b[0m\u001b[0;34m\u001b[0m\u001b[0;34m\u001b[0m\u001b[0m\n\u001b[0m\u001b[1;32m   2890\u001b[0m             \u001b[0;32mexcept\u001b[0m \u001b[0mKeyError\u001b[0m \u001b[0;32mas\u001b[0m \u001b[0merr\u001b[0m\u001b[0;34m:\u001b[0m\u001b[0;34m\u001b[0m\u001b[0;34m\u001b[0m\u001b[0m\n",
      "\u001b[0;32mpandas/_libs/index.pyx\u001b[0m in \u001b[0;36mpandas._libs.index.IndexEngine.get_loc\u001b[0;34m()\u001b[0m\n",
      "\u001b[0;32mpandas/_libs/index.pyx\u001b[0m in \u001b[0;36mpandas._libs.index.IndexEngine.get_loc\u001b[0;34m()\u001b[0m\n",
      "\u001b[0;32mpandas/_libs/hashtable_class_helper.pxi\u001b[0m in \u001b[0;36mpandas._libs.hashtable.PyObjectHashTable.get_item\u001b[0;34m()\u001b[0m\n",
      "\u001b[0;32mpandas/_libs/hashtable_class_helper.pxi\u001b[0m in \u001b[0;36mpandas._libs.hashtable.PyObjectHashTable.get_item\u001b[0;34m()\u001b[0m\n",
      "\u001b[0;31mKeyError\u001b[0m: 'False'",
      "\nThe above exception was the direct cause of the following exception:\n",
      "\u001b[0;31mKeyError\u001b[0m                                  Traceback (most recent call last)",
      "\u001b[0;32m<ipython-input-62-013ef14914f4>\u001b[0m in \u001b[0;36m<module>\u001b[0;34m\u001b[0m\n\u001b[0;32m----> 1\u001b[0;31m \u001b[0;32mdel\u001b[0m \u001b[0msubs\u001b[0m\u001b[0;34m[\u001b[0m\u001b[0;34m\"False\"\u001b[0m\u001b[0;34m]\u001b[0m\u001b[0;34m\u001b[0m\u001b[0;34m\u001b[0m\u001b[0m\n\u001b[0m\u001b[1;32m      2\u001b[0m \u001b[0msubs\u001b[0m\u001b[0;34m.\u001b[0m\u001b[0minfo\u001b[0m\u001b[0;34m(\u001b[0m\u001b[0;34m)\u001b[0m\u001b[0;34m\u001b[0m\u001b[0;34m\u001b[0m\u001b[0m\n",
      "\u001b[0;32m~/Anaconda_Related/anaconda3/lib/python3.8/site-packages/pandas/core/generic.py\u001b[0m in \u001b[0;36m__delitem__\u001b[0;34m(self, key)\u001b[0m\n\u001b[1;32m   3700\u001b[0m             \u001b[0;31m# there was no match, this call should raise the appropriate\u001b[0m\u001b[0;34m\u001b[0m\u001b[0;34m\u001b[0m\u001b[0;34m\u001b[0m\u001b[0m\n\u001b[1;32m   3701\u001b[0m             \u001b[0;31m# exception:\u001b[0m\u001b[0;34m\u001b[0m\u001b[0;34m\u001b[0m\u001b[0;34m\u001b[0m\u001b[0m\n\u001b[0;32m-> 3702\u001b[0;31m             \u001b[0mloc\u001b[0m \u001b[0;34m=\u001b[0m \u001b[0mself\u001b[0m\u001b[0;34m.\u001b[0m\u001b[0maxes\u001b[0m\u001b[0;34m[\u001b[0m\u001b[0;34m-\u001b[0m\u001b[0;36m1\u001b[0m\u001b[0;34m]\u001b[0m\u001b[0;34m.\u001b[0m\u001b[0mget_loc\u001b[0m\u001b[0;34m(\u001b[0m\u001b[0mkey\u001b[0m\u001b[0;34m)\u001b[0m\u001b[0;34m\u001b[0m\u001b[0;34m\u001b[0m\u001b[0m\n\u001b[0m\u001b[1;32m   3703\u001b[0m             \u001b[0mself\u001b[0m\u001b[0;34m.\u001b[0m\u001b[0m_mgr\u001b[0m\u001b[0;34m.\u001b[0m\u001b[0midelete\u001b[0m\u001b[0;34m(\u001b[0m\u001b[0mloc\u001b[0m\u001b[0;34m)\u001b[0m\u001b[0;34m\u001b[0m\u001b[0;34m\u001b[0m\u001b[0m\n\u001b[1;32m   3704\u001b[0m \u001b[0;34m\u001b[0m\u001b[0m\n",
      "\u001b[0;32m~/Anaconda_Related/anaconda3/lib/python3.8/site-packages/pandas/core/indexes/base.py\u001b[0m in \u001b[0;36mget_loc\u001b[0;34m(self, key, method, tolerance)\u001b[0m\n\u001b[1;32m   2889\u001b[0m                 \u001b[0;32mreturn\u001b[0m \u001b[0mself\u001b[0m\u001b[0;34m.\u001b[0m\u001b[0m_engine\u001b[0m\u001b[0;34m.\u001b[0m\u001b[0mget_loc\u001b[0m\u001b[0;34m(\u001b[0m\u001b[0mcasted_key\u001b[0m\u001b[0;34m)\u001b[0m\u001b[0;34m\u001b[0m\u001b[0;34m\u001b[0m\u001b[0m\n\u001b[1;32m   2890\u001b[0m             \u001b[0;32mexcept\u001b[0m \u001b[0mKeyError\u001b[0m \u001b[0;32mas\u001b[0m \u001b[0merr\u001b[0m\u001b[0;34m:\u001b[0m\u001b[0;34m\u001b[0m\u001b[0;34m\u001b[0m\u001b[0m\n\u001b[0;32m-> 2891\u001b[0;31m                 \u001b[0;32mraise\u001b[0m \u001b[0mKeyError\u001b[0m\u001b[0;34m(\u001b[0m\u001b[0mkey\u001b[0m\u001b[0;34m)\u001b[0m \u001b[0;32mfrom\u001b[0m \u001b[0merr\u001b[0m\u001b[0;34m\u001b[0m\u001b[0;34m\u001b[0m\u001b[0m\n\u001b[0m\u001b[1;32m   2892\u001b[0m \u001b[0;34m\u001b[0m\u001b[0m\n\u001b[1;32m   2893\u001b[0m         \u001b[0;32mif\u001b[0m \u001b[0mtolerance\u001b[0m \u001b[0;32mis\u001b[0m \u001b[0;32mnot\u001b[0m \u001b[0;32mNone\u001b[0m\u001b[0;34m:\u001b[0m\u001b[0;34m\u001b[0m\u001b[0;34m\u001b[0m\u001b[0m\n",
      "\u001b[0;31mKeyError\u001b[0m: 'False'"
     ]
    }
   ],
   "source": [
    "del subs[\"False\"]\n",
    "subs.info()"
   ]
  },
  {
   "cell_type": "code",
   "execution_count": 59,
   "metadata": {},
   "outputs": [
    {
     "ename": "ValueError",
     "evalue": "Input contains NaN, infinity or a value too large for dtype('float64').",
     "output_type": "error",
     "traceback": [
      "\u001b[0;31m---------------------------------------------------------------------------\u001b[0m",
      "\u001b[0;31mValueError\u001b[0m                                Traceback (most recent call last)",
      "\u001b[0;32m<ipython-input-59-6a263b3caa56>\u001b[0m in \u001b[0;36m<module>\u001b[0;34m\u001b[0m\n\u001b[1;32m      1\u001b[0m \u001b[0mkmean\u001b[0m\u001b[0;34m=\u001b[0m\u001b[0mKMeans\u001b[0m\u001b[0;34m(\u001b[0m\u001b[0mn_clusters\u001b[0m\u001b[0;34m=\u001b[0m\u001b[0;36m3\u001b[0m\u001b[0;34m)\u001b[0m\u001b[0;34m\u001b[0m\u001b[0;34m\u001b[0m\u001b[0m\n\u001b[0;32m----> 2\u001b[0;31m \u001b[0mkmean\u001b[0m\u001b[0;34m.\u001b[0m\u001b[0mfit\u001b[0m\u001b[0;34m(\u001b[0m\u001b[0msubs\u001b[0m\u001b[0;34m)\u001b[0m\u001b[0;34m\u001b[0m\u001b[0;34m\u001b[0m\u001b[0m\n\u001b[0m",
      "\u001b[0;32m~/Anaconda_Related/anaconda3/lib/python3.8/site-packages/sklearn/cluster/_kmeans.py\u001b[0m in \u001b[0;36mfit\u001b[0;34m(self, X, y, sample_weight)\u001b[0m\n\u001b[1;32m   1028\u001b[0m             \u001b[0mFitted\u001b[0m \u001b[0mestimator\u001b[0m\u001b[0;34m.\u001b[0m\u001b[0;34m\u001b[0m\u001b[0;34m\u001b[0m\u001b[0m\n\u001b[1;32m   1029\u001b[0m         \"\"\"\n\u001b[0;32m-> 1030\u001b[0;31m         X = self._validate_data(X, accept_sparse='csr',\n\u001b[0m\u001b[1;32m   1031\u001b[0m                                 \u001b[0mdtype\u001b[0m\u001b[0;34m=\u001b[0m\u001b[0;34m[\u001b[0m\u001b[0mnp\u001b[0m\u001b[0;34m.\u001b[0m\u001b[0mfloat64\u001b[0m\u001b[0;34m,\u001b[0m \u001b[0mnp\u001b[0m\u001b[0;34m.\u001b[0m\u001b[0mfloat32\u001b[0m\u001b[0;34m]\u001b[0m\u001b[0;34m,\u001b[0m\u001b[0;34m\u001b[0m\u001b[0;34m\u001b[0m\u001b[0m\n\u001b[1;32m   1032\u001b[0m                                 \u001b[0morder\u001b[0m\u001b[0;34m=\u001b[0m\u001b[0;34m'C'\u001b[0m\u001b[0;34m,\u001b[0m \u001b[0mcopy\u001b[0m\u001b[0;34m=\u001b[0m\u001b[0mself\u001b[0m\u001b[0;34m.\u001b[0m\u001b[0mcopy_x\u001b[0m\u001b[0;34m,\u001b[0m\u001b[0;34m\u001b[0m\u001b[0;34m\u001b[0m\u001b[0m\n",
      "\u001b[0;32m~/Anaconda_Related/anaconda3/lib/python3.8/site-packages/sklearn/base.py\u001b[0m in \u001b[0;36m_validate_data\u001b[0;34m(self, X, y, reset, validate_separately, **check_params)\u001b[0m\n\u001b[1;32m    418\u001b[0m                     \u001b[0;34mf\"requires y to be passed, but the target y is None.\"\u001b[0m\u001b[0;34m\u001b[0m\u001b[0;34m\u001b[0m\u001b[0m\n\u001b[1;32m    419\u001b[0m                 )\n\u001b[0;32m--> 420\u001b[0;31m             \u001b[0mX\u001b[0m \u001b[0;34m=\u001b[0m \u001b[0mcheck_array\u001b[0m\u001b[0;34m(\u001b[0m\u001b[0mX\u001b[0m\u001b[0;34m,\u001b[0m \u001b[0;34m**\u001b[0m\u001b[0mcheck_params\u001b[0m\u001b[0;34m)\u001b[0m\u001b[0;34m\u001b[0m\u001b[0;34m\u001b[0m\u001b[0m\n\u001b[0m\u001b[1;32m    421\u001b[0m             \u001b[0mout\u001b[0m \u001b[0;34m=\u001b[0m \u001b[0mX\u001b[0m\u001b[0;34m\u001b[0m\u001b[0;34m\u001b[0m\u001b[0m\n\u001b[1;32m    422\u001b[0m         \u001b[0;32melse\u001b[0m\u001b[0;34m:\u001b[0m\u001b[0;34m\u001b[0m\u001b[0;34m\u001b[0m\u001b[0m\n",
      "\u001b[0;32m~/Anaconda_Related/anaconda3/lib/python3.8/site-packages/sklearn/utils/validation.py\u001b[0m in \u001b[0;36minner_f\u001b[0;34m(*args, **kwargs)\u001b[0m\n\u001b[1;32m     70\u001b[0m                           FutureWarning)\n\u001b[1;32m     71\u001b[0m         \u001b[0mkwargs\u001b[0m\u001b[0;34m.\u001b[0m\u001b[0mupdate\u001b[0m\u001b[0;34m(\u001b[0m\u001b[0;34m{\u001b[0m\u001b[0mk\u001b[0m\u001b[0;34m:\u001b[0m \u001b[0marg\u001b[0m \u001b[0;32mfor\u001b[0m \u001b[0mk\u001b[0m\u001b[0;34m,\u001b[0m \u001b[0marg\u001b[0m \u001b[0;32min\u001b[0m \u001b[0mzip\u001b[0m\u001b[0;34m(\u001b[0m\u001b[0msig\u001b[0m\u001b[0;34m.\u001b[0m\u001b[0mparameters\u001b[0m\u001b[0;34m,\u001b[0m \u001b[0margs\u001b[0m\u001b[0;34m)\u001b[0m\u001b[0;34m}\u001b[0m\u001b[0;34m)\u001b[0m\u001b[0;34m\u001b[0m\u001b[0;34m\u001b[0m\u001b[0m\n\u001b[0;32m---> 72\u001b[0;31m         \u001b[0;32mreturn\u001b[0m \u001b[0mf\u001b[0m\u001b[0;34m(\u001b[0m\u001b[0;34m**\u001b[0m\u001b[0mkwargs\u001b[0m\u001b[0;34m)\u001b[0m\u001b[0;34m\u001b[0m\u001b[0;34m\u001b[0m\u001b[0m\n\u001b[0m\u001b[1;32m     73\u001b[0m     \u001b[0;32mreturn\u001b[0m \u001b[0minner_f\u001b[0m\u001b[0;34m\u001b[0m\u001b[0;34m\u001b[0m\u001b[0m\n\u001b[1;32m     74\u001b[0m \u001b[0;34m\u001b[0m\u001b[0m\n",
      "\u001b[0;32m~/Anaconda_Related/anaconda3/lib/python3.8/site-packages/sklearn/utils/validation.py\u001b[0m in \u001b[0;36mcheck_array\u001b[0;34m(array, accept_sparse, accept_large_sparse, dtype, order, copy, force_all_finite, ensure_2d, allow_nd, ensure_min_samples, ensure_min_features, estimator)\u001b[0m\n\u001b[1;32m    642\u001b[0m \u001b[0;34m\u001b[0m\u001b[0m\n\u001b[1;32m    643\u001b[0m         \u001b[0;32mif\u001b[0m \u001b[0mforce_all_finite\u001b[0m\u001b[0;34m:\u001b[0m\u001b[0;34m\u001b[0m\u001b[0;34m\u001b[0m\u001b[0m\n\u001b[0;32m--> 644\u001b[0;31m             _assert_all_finite(array,\n\u001b[0m\u001b[1;32m    645\u001b[0m                                allow_nan=force_all_finite == 'allow-nan')\n\u001b[1;32m    646\u001b[0m \u001b[0;34m\u001b[0m\u001b[0m\n",
      "\u001b[0;32m~/Anaconda_Related/anaconda3/lib/python3.8/site-packages/sklearn/utils/validation.py\u001b[0m in \u001b[0;36m_assert_all_finite\u001b[0;34m(X, allow_nan, msg_dtype)\u001b[0m\n\u001b[1;32m     94\u001b[0m                 not allow_nan and not np.isfinite(X).all()):\n\u001b[1;32m     95\u001b[0m             \u001b[0mtype_err\u001b[0m \u001b[0;34m=\u001b[0m \u001b[0;34m'infinity'\u001b[0m \u001b[0;32mif\u001b[0m \u001b[0mallow_nan\u001b[0m \u001b[0;32melse\u001b[0m \u001b[0;34m'NaN, infinity'\u001b[0m\u001b[0;34m\u001b[0m\u001b[0;34m\u001b[0m\u001b[0m\n\u001b[0;32m---> 96\u001b[0;31m             raise ValueError(\n\u001b[0m\u001b[1;32m     97\u001b[0m                     \u001b[0mmsg_err\u001b[0m\u001b[0;34m.\u001b[0m\u001b[0mformat\u001b[0m\u001b[0;34m\u001b[0m\u001b[0;34m\u001b[0m\u001b[0m\n\u001b[1;32m     98\u001b[0m                     (type_err,\n",
      "\u001b[0;31mValueError\u001b[0m: Input contains NaN, infinity or a value too large for dtype('float64')."
     ]
    }
   ],
   "source": [
    "kmean=KMeans(n_clusters=3)\n",
    "kmean.fit(subs)"
   ]
  },
  {
   "cell_type": "code",
   "execution_count": null,
   "metadata": {},
   "outputs": [],
   "source": []
  }
 ],
 "metadata": {
  "kernelspec": {
   "display_name": "Python 3",
   "language": "python",
   "name": "python3"
  },
  "language_info": {
   "codemirror_mode": {
    "name": "ipython",
    "version": 3
   },
   "file_extension": ".py",
   "mimetype": "text/x-python",
   "name": "python",
   "nbconvert_exporter": "python",
   "pygments_lexer": "ipython3",
   "version": "3.8.5"
  }
 },
 "nbformat": 4,
 "nbformat_minor": 4
}
