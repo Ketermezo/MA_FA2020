{
 "cells": [
  {
   "cell_type": "code",
   "execution_count": 1,
   "metadata": {},
   "outputs": [],
   "source": [
    "import pandas as pd\n",
    "import matplotlib.pyplot as plt\n",
    "import seaborn as sns"
   ]
  },
  {
   "cell_type": "code",
   "execution_count": 55,
   "metadata": {},
   "outputs": [
    {
     "data": {
      "text/html": [
       "<div>\n",
       "<style scoped>\n",
       "    .dataframe tbody tr th:only-of-type {\n",
       "        vertical-align: middle;\n",
       "    }\n",
       "\n",
       "    .dataframe tbody tr th {\n",
       "        vertical-align: top;\n",
       "    }\n",
       "\n",
       "    .dataframe thead th {\n",
       "        text-align: right;\n",
       "    }\n",
       "</style>\n",
       "<table border=\"1\" class=\"dataframe\">\n",
       "  <thead>\n",
       "    <tr style=\"text-align: right;\">\n",
       "      <th></th>\n",
       "      <th>Unnamed: 0</th>\n",
       "      <th>subid</th>\n",
       "      <th>package_type</th>\n",
       "      <th>num_weekly_services_utilized</th>\n",
       "      <th>preferred_genre</th>\n",
       "      <th>intended_use</th>\n",
       "      <th>weekly_consumption_hour</th>\n",
       "      <th>num_ideal_streaming_services</th>\n",
       "      <th>age</th>\n",
       "      <th>male_TF</th>\n",
       "      <th>...</th>\n",
       "      <th>join_fee</th>\n",
       "      <th>language</th>\n",
       "      <th>payment_type</th>\n",
       "      <th>num_trial_days</th>\n",
       "      <th>current_sub_TF</th>\n",
       "      <th>payment_period</th>\n",
       "      <th>last_payment</th>\n",
       "      <th>next_payment</th>\n",
       "      <th>cancel_date</th>\n",
       "      <th>trial_completed</th>\n",
       "    </tr>\n",
       "  </thead>\n",
       "  <tbody>\n",
       "    <tr>\n",
       "      <th>0</th>\n",
       "      <td>162502</td>\n",
       "      <td>21724479</td>\n",
       "      <td>economy</td>\n",
       "      <td>NaN</td>\n",
       "      <td>comedy</td>\n",
       "      <td>access to exclusive content</td>\n",
       "      <td>NaN</td>\n",
       "      <td>NaN</td>\n",
       "      <td>NaN</td>\n",
       "      <td>False</td>\n",
       "      <td>...</td>\n",
       "      <td>NaN</td>\n",
       "      <td>ar</td>\n",
       "      <td>Standard Charter</td>\n",
       "      <td>14</td>\n",
       "      <td>True</td>\n",
       "      <td>1</td>\n",
       "      <td>2020-02-07 21:44:16</td>\n",
       "      <td>2020-06-07 21:44:16</td>\n",
       "      <td>NaN</td>\n",
       "      <td>True</td>\n",
       "    </tr>\n",
       "    <tr>\n",
       "      <th>1</th>\n",
       "      <td>380374</td>\n",
       "      <td>23383224</td>\n",
       "      <td>base</td>\n",
       "      <td>NaN</td>\n",
       "      <td>comedy</td>\n",
       "      <td>access to exclusive content</td>\n",
       "      <td>22.951579</td>\n",
       "      <td>NaN</td>\n",
       "      <td>70.0</td>\n",
       "      <td>False</td>\n",
       "      <td>...</td>\n",
       "      <td>0.3303</td>\n",
       "      <td>ar</td>\n",
       "      <td>NaN</td>\n",
       "      <td>14</td>\n",
       "      <td>True</td>\n",
       "      <td>1</td>\n",
       "      <td>2020-03-15 15:44:35</td>\n",
       "      <td>2020-07-15 15:44:35</td>\n",
       "      <td>NaN</td>\n",
       "      <td>True</td>\n",
       "    </tr>\n",
       "    <tr>\n",
       "      <th>2</th>\n",
       "      <td>496617</td>\n",
       "      <td>26844789</td>\n",
       "      <td>enhanced</td>\n",
       "      <td>3.0</td>\n",
       "      <td>regional</td>\n",
       "      <td>replace OTT</td>\n",
       "      <td>36.001186</td>\n",
       "      <td>2.0</td>\n",
       "      <td>25.0</td>\n",
       "      <td>True</td>\n",
       "      <td>...</td>\n",
       "      <td>0.1101</td>\n",
       "      <td>ar</td>\n",
       "      <td>NaN</td>\n",
       "      <td>14</td>\n",
       "      <td>False</td>\n",
       "      <td>0</td>\n",
       "      <td>NaN</td>\n",
       "      <td>NaN</td>\n",
       "      <td>NaN</td>\n",
       "      <td>True</td>\n",
       "    </tr>\n",
       "    <tr>\n",
       "      <th>3</th>\n",
       "      <td>356799</td>\n",
       "      <td>29417030</td>\n",
       "      <td>base</td>\n",
       "      <td>NaN</td>\n",
       "      <td>drama</td>\n",
       "      <td>replace OTT</td>\n",
       "      <td>20.051667</td>\n",
       "      <td>NaN</td>\n",
       "      <td>30.0</td>\n",
       "      <td>False</td>\n",
       "      <td>...</td>\n",
       "      <td>0.0367</td>\n",
       "      <td>ar</td>\n",
       "      <td>NaN</td>\n",
       "      <td>14</td>\n",
       "      <td>False</td>\n",
       "      <td>0</td>\n",
       "      <td>NaN</td>\n",
       "      <td>NaN</td>\n",
       "      <td>NaN</td>\n",
       "      <td>True</td>\n",
       "    </tr>\n",
       "    <tr>\n",
       "      <th>4</th>\n",
       "      <td>681701</td>\n",
       "      <td>26723159</td>\n",
       "      <td>base</td>\n",
       "      <td>4.0</td>\n",
       "      <td>comedy</td>\n",
       "      <td>replace OTT</td>\n",
       "      <td>22.951579</td>\n",
       "      <td>3.0</td>\n",
       "      <td>28.0</td>\n",
       "      <td>False</td>\n",
       "      <td>...</td>\n",
       "      <td>0.0367</td>\n",
       "      <td>ar</td>\n",
       "      <td>NaN</td>\n",
       "      <td>14</td>\n",
       "      <td>True</td>\n",
       "      <td>2</td>\n",
       "      <td>2020-02-19 12:57:07</td>\n",
       "      <td>2020-06-19 12:57:07</td>\n",
       "      <td>NaN</td>\n",
       "      <td>True</td>\n",
       "    </tr>\n",
       "  </tbody>\n",
       "</table>\n",
       "<p>5 rows × 31 columns</p>\n",
       "</div>"
      ],
      "text/plain": [
       "   Unnamed: 0     subid package_type  num_weekly_services_utilized  \\\n",
       "0      162502  21724479      economy                           NaN   \n",
       "1      380374  23383224         base                           NaN   \n",
       "2      496617  26844789     enhanced                           3.0   \n",
       "3      356799  29417030         base                           NaN   \n",
       "4      681701  26723159         base                           4.0   \n",
       "\n",
       "  preferred_genre                 intended_use  weekly_consumption_hour  \\\n",
       "0          comedy  access to exclusive content                      NaN   \n",
       "1          comedy  access to exclusive content                22.951579   \n",
       "2        regional                  replace OTT                36.001186   \n",
       "3           drama                  replace OTT                20.051667   \n",
       "4          comedy                  replace OTT                22.951579   \n",
       "\n",
       "   num_ideal_streaming_services   age male_TF  ... join_fee language  \\\n",
       "0                           NaN   NaN   False  ...      NaN       ar   \n",
       "1                           NaN  70.0   False  ...   0.3303       ar   \n",
       "2                           2.0  25.0    True  ...   0.1101       ar   \n",
       "3                           NaN  30.0   False  ...   0.0367       ar   \n",
       "4                           3.0  28.0   False  ...   0.0367       ar   \n",
       "\n",
       "       payment_type num_trial_days  current_sub_TF payment_period  \\\n",
       "0  Standard Charter             14            True              1   \n",
       "1               NaN             14            True              1   \n",
       "2               NaN             14           False              0   \n",
       "3               NaN             14           False              0   \n",
       "4               NaN             14            True              2   \n",
       "\n",
       "          last_payment         next_payment cancel_date trial_completed  \n",
       "0  2020-02-07 21:44:16  2020-06-07 21:44:16         NaN            True  \n",
       "1  2020-03-15 15:44:35  2020-07-15 15:44:35         NaN            True  \n",
       "2                  NaN                  NaN         NaN            True  \n",
       "3                  NaN                  NaN         NaN            True  \n",
       "4  2020-02-19 12:57:07  2020-06-19 12:57:07         NaN            True  \n",
       "\n",
       "[5 rows x 31 columns]"
      ]
     },
     "execution_count": 55,
     "metadata": {},
     "output_type": "execute_result"
    }
   ],
   "source": [
    "df_subscribers = pd.read_csv(\"/Users/awesomezoey/Desktop/MA_FinalProject/subscribers.csv\")\n",
    "df_subscribers.head()"
   ]
  },
  {
   "cell_type": "code",
   "execution_count": 3,
   "metadata": {},
   "outputs": [
    {
     "data": {
      "text/html": [
       "<div>\n",
       "<style scoped>\n",
       "    .dataframe tbody tr th:only-of-type {\n",
       "        vertical-align: middle;\n",
       "    }\n",
       "\n",
       "    .dataframe tbody tr th {\n",
       "        vertical-align: top;\n",
       "    }\n",
       "\n",
       "    .dataframe thead th {\n",
       "        text-align: right;\n",
       "    }\n",
       "</style>\n",
       "<table border=\"1\" class=\"dataframe\">\n",
       "  <thead>\n",
       "    <tr style=\"text-align: right;\">\n",
       "      <th></th>\n",
       "      <th>channel</th>\n",
       "      <th>date</th>\n",
       "      <th>spend_AED</th>\n",
       "    </tr>\n",
       "  </thead>\n",
       "  <tbody>\n",
       "    <tr>\n",
       "      <th>0</th>\n",
       "      <td>bing</td>\n",
       "      <td>201907</td>\n",
       "      <td>400</td>\n",
       "    </tr>\n",
       "    <tr>\n",
       "      <th>1</th>\n",
       "      <td>display</td>\n",
       "      <td>201907</td>\n",
       "      <td>12</td>\n",
       "    </tr>\n",
       "    <tr>\n",
       "      <th>2</th>\n",
       "      <td>facebook</td>\n",
       "      <td>201907</td>\n",
       "      <td>9000</td>\n",
       "    </tr>\n",
       "    <tr>\n",
       "      <th>3</th>\n",
       "      <td>search</td>\n",
       "      <td>201907</td>\n",
       "      <td>13000</td>\n",
       "    </tr>\n",
       "    <tr>\n",
       "      <th>4</th>\n",
       "      <td>youtube</td>\n",
       "      <td>201907</td>\n",
       "      <td>90</td>\n",
       "    </tr>\n",
       "  </tbody>\n",
       "</table>\n",
       "</div>"
      ],
      "text/plain": [
       "    channel    date  spend_AED\n",
       "0      bing  201907        400\n",
       "1   display  201907         12\n",
       "2  facebook  201907       9000\n",
       "3    search  201907      13000\n",
       "4   youtube  201907         90"
      ]
     },
     "execution_count": 3,
     "metadata": {},
     "output_type": "execute_result"
    }
   ],
   "source": [
    "df_channel = pd.read_csv(\"/Users/awesomezoey/Desktop/MA_FinalProject/channel_spend_graduate.csv\")\n",
    "df_channel.head()"
   ]
  },
  {
   "cell_type": "code",
   "execution_count": 56,
   "metadata": {},
   "outputs": [
    {
     "data": {
      "text/plain": [
       "Unnamed: 0                           0\n",
       "subid                                0\n",
       "package_type                     35574\n",
       "num_weekly_services_utilized    110450\n",
       "preferred_genre                  36326\n",
       "intended_use                      3549\n",
       "weekly_consumption_hour          37930\n",
       "num_ideal_streaming_services    112170\n",
       "age                              35169\n",
       "male_TF                            269\n",
       "country                              0\n",
       "attribution_technical                0\n",
       "attribution_survey                2644\n",
       "op_sys                           13375\n",
       "months_per_bill_period               0\n",
       "plan_type                            0\n",
       "monthly_price                        0\n",
       "discount_price                       0\n",
       "account_creation_date                0\n",
       "trial_end_date                       0\n",
       "initial_credit_card_declined         0\n",
       "join_fee                         34904\n",
       "language                             0\n",
       "payment_type                    135578\n",
       "num_trial_days                       0\n",
       "current_sub_TF                       0\n",
       "payment_period                       0\n",
       "last_payment                     95391\n",
       "next_payment                     97378\n",
       "cancel_date                     190797\n",
       "trial_completed                      0\n",
       "dtype: int64"
      ]
     },
     "execution_count": 56,
     "metadata": {},
     "output_type": "execute_result"
    }
   ],
   "source": [
    "df_subscribers.isnull().sum()"
   ]
  },
  {
   "cell_type": "markdown",
   "metadata": {},
   "source": [
    "## Part 1. General Data Description"
   ]
  },
  {
   "cell_type": "code",
   "execution_count": 4,
   "metadata": {},
   "outputs": [
    {
     "name": "stdout",
     "output_type": "stream",
     "text": [
      "<class 'pandas.core.frame.DataFrame'>\n",
      "RangeIndex: 227628 entries, 0 to 227627\n",
      "Data columns (total 31 columns):\n",
      " #   Column                        Non-Null Count   Dtype  \n",
      "---  ------                        --------------   -----  \n",
      " 0   Unnamed: 0                    227628 non-null  int64  \n",
      " 1   subid                         227628 non-null  int64  \n",
      " 2   package_type                  192054 non-null  object \n",
      " 3   num_weekly_services_utilized  117178 non-null  float64\n",
      " 4   preferred_genre               191302 non-null  object \n",
      " 5   intended_use                  224079 non-null  object \n",
      " 6   weekly_consumption_hour       189698 non-null  float64\n",
      " 7   num_ideal_streaming_services  115458 non-null  float64\n",
      " 8   age                           192459 non-null  float64\n",
      " 9   male_TF                       227359 non-null  object \n",
      " 10  country                       227628 non-null  object \n",
      " 11  attribution_technical         227628 non-null  object \n",
      " 12  attribution_survey            224984 non-null  object \n",
      " 13  op_sys                        214253 non-null  object \n",
      " 14  months_per_bill_period        227628 non-null  int64  \n",
      " 15  plan_type                     227628 non-null  object \n",
      " 16  monthly_price                 227628 non-null  float64\n",
      " 17  discount_price                227628 non-null  float64\n",
      " 18  account_creation_date         227628 non-null  object \n",
      " 19  trial_end_date                227628 non-null  object \n",
      " 20  initial_credit_card_declined  227628 non-null  bool   \n",
      " 21  join_fee                      192724 non-null  float64\n",
      " 22  language                      227628 non-null  object \n",
      " 23  payment_type                  92050 non-null   object \n",
      " 24  num_trial_days                227628 non-null  int64  \n",
      " 25  current_sub_TF                227628 non-null  bool   \n",
      " 26  payment_period                227628 non-null  int64  \n",
      " 27  last_payment                  132237 non-null  object \n",
      " 28  next_payment                  130250 non-null  object \n",
      " 29  cancel_date                   36831 non-null   object \n",
      " 30  trial_completed               227628 non-null  bool   \n",
      "dtypes: bool(3), float64(7), int64(5), object(16)\n",
      "memory usage: 49.3+ MB\n"
     ]
    }
   ],
   "source": [
    "df_subscribers.info()"
   ]
  },
  {
   "cell_type": "code",
   "execution_count": 5,
   "metadata": {},
   "outputs": [
    {
     "data": {
      "text/plain": [
       "count    1.924590e+05\n",
       "mean     7.579755e+02\n",
       "std      1.920204e+05\n",
       "min      0.000000e+00\n",
       "25%      3.500000e+01\n",
       "50%      4.600000e+01\n",
       "75%      5.700000e+01\n",
       "max      8.172000e+07\n",
       "Name: age, dtype: float64"
      ]
     },
     "execution_count": 5,
     "metadata": {},
     "output_type": "execute_result"
    }
   ],
   "source": [
    "df_subscribers[\"age\"].describe()"
   ]
  },
  {
   "cell_type": "code",
   "execution_count": 6,
   "metadata": {},
   "outputs": [
    {
     "name": "stdout",
     "output_type": "stream",
     "text": [
      "Unnamed: 0 | 0\n",
      "subid | 0\n",
      "package_type | 35574\n",
      "num_weekly_services_utilized | 110450\n",
      "preferred_genre | 36326\n",
      "intended_use | 3549\n",
      "weekly_consumption_hour | 37930\n",
      "num_ideal_streaming_services | 112170\n",
      "age | 35169\n",
      "male_TF | 269\n",
      "country | 0\n",
      "attribution_technical | 0\n",
      "attribution_survey | 2644\n",
      "op_sys | 13375\n",
      "months_per_bill_period | 0\n",
      "plan_type | 0\n",
      "monthly_price | 0\n",
      "discount_price | 0\n",
      "account_creation_date | 0\n",
      "trial_end_date | 0\n",
      "initial_credit_card_declined | 0\n",
      "join_fee | 34904\n",
      "language | 0\n",
      "payment_type | 135578\n",
      "num_trial_days | 0\n",
      "current_sub_TF | 0\n",
      "payment_period | 0\n",
      "last_payment | 95391\n",
      "next_payment | 97378\n",
      "cancel_date | 190797\n",
      "trial_completed | 0\n"
     ]
    }
   ],
   "source": [
    "for i in df_subscribers.columns:\n",
    "    print(i,\"|\",df_subscribers[i].isnull().sum())"
   ]
  },
  {
   "cell_type": "code",
   "execution_count": 7,
   "metadata": {},
   "outputs": [
    {
     "data": {
      "text/plain": [
       "pandas.core.indexes.base.Index"
      ]
     },
     "execution_count": 7,
     "metadata": {},
     "output_type": "execute_result"
    }
   ],
   "source": [
    "type(df_subscribers.columns)"
   ]
  },
  {
   "cell_type": "code",
   "execution_count": 8,
   "metadata": {},
   "outputs": [
    {
     "name": "stdout",
     "output_type": "stream",
     "text": [
      "<class 'pandas.core.frame.DataFrame'>\n",
      "RangeIndex: 40 entries, 0 to 39\n",
      "Data columns (total 3 columns):\n",
      " #   Column     Non-Null Count  Dtype \n",
      "---  ------     --------------  ----- \n",
      " 0   channel    40 non-null     object\n",
      " 1   date       40 non-null     int64 \n",
      " 2   spend_AED  40 non-null     int64 \n",
      "dtypes: int64(2), object(1)\n",
      "memory usage: 1.1+ KB\n"
     ]
    }
   ],
   "source": [
    "df_channel.info()"
   ]
  },
  {
   "cell_type": "code",
   "execution_count": 9,
   "metadata": {},
   "outputs": [
    {
     "data": {
      "text/plain": [
       "array([201907, 201908, 201909, 201910, 201911, 201912, 202001, 202002])"
      ]
     },
     "execution_count": 9,
     "metadata": {},
     "output_type": "execute_result"
    }
   ],
   "source": [
    "df_channel[\"date\"].unique()"
   ]
  },
  {
   "cell_type": "code",
   "execution_count": 10,
   "metadata": {},
   "outputs": [
    {
     "data": {
      "text/html": [
       "<div>\n",
       "<style scoped>\n",
       "    .dataframe tbody tr th:only-of-type {\n",
       "        vertical-align: middle;\n",
       "    }\n",
       "\n",
       "    .dataframe tbody tr th {\n",
       "        vertical-align: top;\n",
       "    }\n",
       "\n",
       "    .dataframe thead th {\n",
       "        text-align: right;\n",
       "    }\n",
       "</style>\n",
       "<table border=\"1\" class=\"dataframe\">\n",
       "  <thead>\n",
       "    <tr style=\"text-align: right;\">\n",
       "      <th></th>\n",
       "      <th>Unnamed: 0</th>\n",
       "      <th>subid</th>\n",
       "      <th>num_weekly_services_utilized</th>\n",
       "      <th>weekly_consumption_hour</th>\n",
       "      <th>num_ideal_streaming_services</th>\n",
       "      <th>age</th>\n",
       "      <th>months_per_bill_period</th>\n",
       "      <th>monthly_price</th>\n",
       "      <th>discount_price</th>\n",
       "      <th>join_fee</th>\n",
       "      <th>num_trial_days</th>\n",
       "      <th>payment_period</th>\n",
       "    </tr>\n",
       "  </thead>\n",
       "  <tbody>\n",
       "    <tr>\n",
       "      <th>count</th>\n",
       "      <td>227628.000000</td>\n",
       "      <td>2.276280e+05</td>\n",
       "      <td>117178.000000</td>\n",
       "      <td>189698.000000</td>\n",
       "      <td>115458.000000</td>\n",
       "      <td>1.924590e+05</td>\n",
       "      <td>227628.0</td>\n",
       "      <td>227628.000000</td>\n",
       "      <td>227628.000000</td>\n",
       "      <td>192724.000000</td>\n",
       "      <td>227628.000000</td>\n",
       "      <td>227628.000000</td>\n",
       "    </tr>\n",
       "    <tr>\n",
       "      <th>mean</th>\n",
       "      <td>341129.200041</td>\n",
       "      <td>2.498624e+07</td>\n",
       "      <td>3.008824</td>\n",
       "      <td>27.997724</td>\n",
       "      <td>2.061260</td>\n",
       "      <td>7.579755e+02</td>\n",
       "      <td>4.0</td>\n",
       "      <td>4.732049</td>\n",
       "      <td>4.512188</td>\n",
       "      <td>0.115145</td>\n",
       "      <td>13.989544</td>\n",
       "      <td>0.790122</td>\n",
       "    </tr>\n",
       "    <tr>\n",
       "      <th>std</th>\n",
       "      <td>197094.201084</td>\n",
       "      <td>2.885543e+06</td>\n",
       "      <td>0.820526</td>\n",
       "      <td>4.976341</td>\n",
       "      <td>0.245907</td>\n",
       "      <td>1.920204e+05</td>\n",
       "      <td>0.0</td>\n",
       "      <td>0.101049</td>\n",
       "      <td>0.097078</td>\n",
       "      <td>0.176971</td>\n",
       "      <td>0.382453</td>\n",
       "      <td>0.777713</td>\n",
       "    </tr>\n",
       "    <tr>\n",
       "      <th>min</th>\n",
       "      <td>1.000000</td>\n",
       "      <td>2.000001e+07</td>\n",
       "      <td>0.000000</td>\n",
       "      <td>-32.146760</td>\n",
       "      <td>-1.000000</td>\n",
       "      <td>0.000000e+00</td>\n",
       "      <td>4.0</td>\n",
       "      <td>0.807400</td>\n",
       "      <td>0.770700</td>\n",
       "      <td>-0.660600</td>\n",
       "      <td>0.000000</td>\n",
       "      <td>0.000000</td>\n",
       "    </tr>\n",
       "    <tr>\n",
       "      <th>25%</th>\n",
       "      <td>170766.250000</td>\n",
       "      <td>2.248998e+07</td>\n",
       "      <td>2.000000</td>\n",
       "      <td>24.401536</td>\n",
       "      <td>2.000000</td>\n",
       "      <td>3.500000e+01</td>\n",
       "      <td>4.0</td>\n",
       "      <td>4.734300</td>\n",
       "      <td>4.514100</td>\n",
       "      <td>0.036700</td>\n",
       "      <td>14.000000</td>\n",
       "      <td>0.000000</td>\n",
       "    </tr>\n",
       "    <tr>\n",
       "      <th>50%</th>\n",
       "      <td>340985.500000</td>\n",
       "      <td>2.497011e+07</td>\n",
       "      <td>3.000000</td>\n",
       "      <td>27.301448</td>\n",
       "      <td>2.000000</td>\n",
       "      <td>4.600000e+01</td>\n",
       "      <td>4.0</td>\n",
       "      <td>4.734300</td>\n",
       "      <td>4.514100</td>\n",
       "      <td>0.036700</td>\n",
       "      <td>14.000000</td>\n",
       "      <td>1.000000</td>\n",
       "    </tr>\n",
       "    <tr>\n",
       "      <th>75%</th>\n",
       "      <td>511844.000000</td>\n",
       "      <td>2.749020e+07</td>\n",
       "      <td>3.000000</td>\n",
       "      <td>30.201361</td>\n",
       "      <td>2.000000</td>\n",
       "      <td>5.700000e+01</td>\n",
       "      <td>4.0</td>\n",
       "      <td>4.734300</td>\n",
       "      <td>4.514100</td>\n",
       "      <td>0.110100</td>\n",
       "      <td>14.000000</td>\n",
       "      <td>1.000000</td>\n",
       "    </tr>\n",
       "    <tr>\n",
       "      <th>max</th>\n",
       "      <td>682885.000000</td>\n",
       "      <td>2.999998e+07</td>\n",
       "      <td>14.000000</td>\n",
       "      <td>76.599962</td>\n",
       "      <td>7.000000</td>\n",
       "      <td>8.172000e+07</td>\n",
       "      <td>4.0</td>\n",
       "      <td>5.101300</td>\n",
       "      <td>5.027900</td>\n",
       "      <td>0.734000</td>\n",
       "      <td>14.000000</td>\n",
       "      <td>3.000000</td>\n",
       "    </tr>\n",
       "  </tbody>\n",
       "</table>\n",
       "</div>"
      ],
      "text/plain": [
       "          Unnamed: 0         subid  num_weekly_services_utilized  \\\n",
       "count  227628.000000  2.276280e+05                 117178.000000   \n",
       "mean   341129.200041  2.498624e+07                      3.008824   \n",
       "std    197094.201084  2.885543e+06                      0.820526   \n",
       "min         1.000000  2.000001e+07                      0.000000   \n",
       "25%    170766.250000  2.248998e+07                      2.000000   \n",
       "50%    340985.500000  2.497011e+07                      3.000000   \n",
       "75%    511844.000000  2.749020e+07                      3.000000   \n",
       "max    682885.000000  2.999998e+07                     14.000000   \n",
       "\n",
       "       weekly_consumption_hour  num_ideal_streaming_services           age  \\\n",
       "count            189698.000000                 115458.000000  1.924590e+05   \n",
       "mean                 27.997724                      2.061260  7.579755e+02   \n",
       "std                   4.976341                      0.245907  1.920204e+05   \n",
       "min                 -32.146760                     -1.000000  0.000000e+00   \n",
       "25%                  24.401536                      2.000000  3.500000e+01   \n",
       "50%                  27.301448                      2.000000  4.600000e+01   \n",
       "75%                  30.201361                      2.000000  5.700000e+01   \n",
       "max                  76.599962                      7.000000  8.172000e+07   \n",
       "\n",
       "       months_per_bill_period  monthly_price  discount_price       join_fee  \\\n",
       "count                227628.0  227628.000000   227628.000000  192724.000000   \n",
       "mean                      4.0       4.732049        4.512188       0.115145   \n",
       "std                       0.0       0.101049        0.097078       0.176971   \n",
       "min                       4.0       0.807400        0.770700      -0.660600   \n",
       "25%                       4.0       4.734300        4.514100       0.036700   \n",
       "50%                       4.0       4.734300        4.514100       0.036700   \n",
       "75%                       4.0       4.734300        4.514100       0.110100   \n",
       "max                       4.0       5.101300        5.027900       0.734000   \n",
       "\n",
       "       num_trial_days  payment_period  \n",
       "count   227628.000000   227628.000000  \n",
       "mean        13.989544        0.790122  \n",
       "std          0.382453        0.777713  \n",
       "min          0.000000        0.000000  \n",
       "25%         14.000000        0.000000  \n",
       "50%         14.000000        1.000000  \n",
       "75%         14.000000        1.000000  \n",
       "max         14.000000        3.000000  "
      ]
     },
     "execution_count": 10,
     "metadata": {},
     "output_type": "execute_result"
    }
   ],
   "source": [
    "df_subscribers.describe()"
   ]
  },
  {
   "cell_type": "code",
   "execution_count": 11,
   "metadata": {},
   "outputs": [
    {
     "data": {
      "text/html": [
       "<div>\n",
       "<style scoped>\n",
       "    .dataframe tbody tr th:only-of-type {\n",
       "        vertical-align: middle;\n",
       "    }\n",
       "\n",
       "    .dataframe tbody tr th {\n",
       "        vertical-align: top;\n",
       "    }\n",
       "\n",
       "    .dataframe thead th {\n",
       "        text-align: right;\n",
       "    }\n",
       "</style>\n",
       "<table border=\"1\" class=\"dataframe\">\n",
       "  <thead>\n",
       "    <tr style=\"text-align: right;\">\n",
       "      <th></th>\n",
       "      <th>date</th>\n",
       "      <th>spend_AED</th>\n",
       "    </tr>\n",
       "  </thead>\n",
       "  <tbody>\n",
       "    <tr>\n",
       "      <th>count</th>\n",
       "      <td>40.000000</td>\n",
       "      <td>40.000000</td>\n",
       "    </tr>\n",
       "    <tr>\n",
       "      <th>mean</th>\n",
       "      <td>201932.500000</td>\n",
       "      <td>8897.400000</td>\n",
       "    </tr>\n",
       "    <tr>\n",
       "      <th>std</th>\n",
       "      <td>40.373258</td>\n",
       "      <td>12161.404319</td>\n",
       "    </tr>\n",
       "    <tr>\n",
       "      <th>min</th>\n",
       "      <td>201907.000000</td>\n",
       "      <td>12.000000</td>\n",
       "    </tr>\n",
       "    <tr>\n",
       "      <th>25%</th>\n",
       "      <td>201908.750000</td>\n",
       "      <td>143.500000</td>\n",
       "    </tr>\n",
       "    <tr>\n",
       "      <th>50%</th>\n",
       "      <td>201910.500000</td>\n",
       "      <td>1700.000000</td>\n",
       "    </tr>\n",
       "    <tr>\n",
       "      <th>75%</th>\n",
       "      <td>201934.250000</td>\n",
       "      <td>14500.000000</td>\n",
       "    </tr>\n",
       "    <tr>\n",
       "      <th>max</th>\n",
       "      <td>202002.000000</td>\n",
       "      <td>44000.000000</td>\n",
       "    </tr>\n",
       "  </tbody>\n",
       "</table>\n",
       "</div>"
      ],
      "text/plain": [
       "                date     spend_AED\n",
       "count      40.000000     40.000000\n",
       "mean   201932.500000   8897.400000\n",
       "std        40.373258  12161.404319\n",
       "min    201907.000000     12.000000\n",
       "25%    201908.750000    143.500000\n",
       "50%    201910.500000   1700.000000\n",
       "75%    201934.250000  14500.000000\n",
       "max    202002.000000  44000.000000"
      ]
     },
     "execution_count": 11,
     "metadata": {},
     "output_type": "execute_result"
    }
   ],
   "source": [
    "df_channel.describe()"
   ]
  },
  {
   "cell_type": "code",
   "execution_count": 12,
   "metadata": {},
   "outputs": [
    {
     "name": "stdout",
     "output_type": "stream",
     "text": [
      "<class 'pandas.core.frame.DataFrame'>\n",
      "RangeIndex: 227628 entries, 0 to 227627\n",
      "Data columns (total 31 columns):\n",
      " #   Column                        Non-Null Count   Dtype  \n",
      "---  ------                        --------------   -----  \n",
      " 0   Unnamed: 0                    227628 non-null  int64  \n",
      " 1   subid                         227628 non-null  int64  \n",
      " 2   package_type                  192054 non-null  object \n",
      " 3   num_weekly_services_utilized  117178 non-null  float64\n",
      " 4   preferred_genre               191302 non-null  object \n",
      " 5   intended_use                  224079 non-null  object \n",
      " 6   weekly_consumption_hour       189698 non-null  float64\n",
      " 7   num_ideal_streaming_services  115458 non-null  float64\n",
      " 8   age                           192459 non-null  float64\n",
      " 9   male_TF                       227359 non-null  object \n",
      " 10  country                       227628 non-null  object \n",
      " 11  attribution_technical         227628 non-null  object \n",
      " 12  attribution_survey            224984 non-null  object \n",
      " 13  op_sys                        214253 non-null  object \n",
      " 14  months_per_bill_period        227628 non-null  int64  \n",
      " 15  plan_type                     227628 non-null  object \n",
      " 16  monthly_price                 227628 non-null  float64\n",
      " 17  discount_price                227628 non-null  float64\n",
      " 18  account_creation_date         227628 non-null  object \n",
      " 19  trial_end_date                227628 non-null  object \n",
      " 20  initial_credit_card_declined  227628 non-null  bool   \n",
      " 21  join_fee                      192724 non-null  float64\n",
      " 22  language                      227628 non-null  object \n",
      " 23  payment_type                  92050 non-null   object \n",
      " 24  num_trial_days                227628 non-null  int64  \n",
      " 25  current_sub_TF                227628 non-null  bool   \n",
      " 26  payment_period                227628 non-null  int64  \n",
      " 27  last_payment                  132237 non-null  object \n",
      " 28  next_payment                  130250 non-null  object \n",
      " 29  cancel_date                   36831 non-null   object \n",
      " 30  trial_completed               227628 non-null  bool   \n",
      "dtypes: bool(3), float64(7), int64(5), object(16)\n",
      "memory usage: 49.3+ MB\n"
     ]
    }
   ],
   "source": [
    "df_subscribers.info()"
   ]
  },
  {
   "cell_type": "code",
   "execution_count": 13,
   "metadata": {},
   "outputs": [
    {
     "data": {
      "text/plain": [
       "Unnamed: 0                           0\n",
       "subid                                0\n",
       "package_type                     35574\n",
       "num_weekly_services_utilized         0\n",
       "preferred_genre                  36326\n",
       "intended_use                      3549\n",
       "weekly_consumption_hour              0\n",
       "num_ideal_streaming_services         0\n",
       "age                              35169\n",
       "male_TF                            269\n",
       "country                              0\n",
       "attribution_technical                0\n",
       "attribution_survey                2644\n",
       "op_sys                           13375\n",
       "months_per_bill_period               0\n",
       "plan_type                            0\n",
       "monthly_price                        0\n",
       "discount_price                       0\n",
       "account_creation_date                0\n",
       "trial_end_date                       0\n",
       "initial_credit_card_declined         0\n",
       "join_fee                             0\n",
       "language                             0\n",
       "payment_type                    135578\n",
       "num_trial_days                       0\n",
       "current_sub_TF                       0\n",
       "payment_period                       0\n",
       "last_payment                     95391\n",
       "next_payment                     97378\n",
       "cancel_date                     190797\n",
       "trial_completed                      0\n",
       "dtype: int64"
      ]
     },
     "execution_count": 13,
     "metadata": {},
     "output_type": "execute_result"
    }
   ],
   "source": [
    "#Replace NaN with 0\n",
    "\n",
    "#number of OTT services currently subscribed to, self-reported upon signup\n",
    "df_subscribers['num_weekly_services_utilized'] = df_subscribers['num_weekly_services_utilized'].fillna(0)\n",
    "\n",
    "#number of television or movies consumed per week, self-reported upon signup\n",
    "df_subscribers['weekly_consumption_hour'] = df_subscribers['weekly_consumption_hour'].fillna(0)\n",
    "\n",
    "#subscriber's target number of services (Mevod, Starz, etc.) subscribed to, self-reported upon signup\n",
    "df_subscribers['num_ideal_streaming_services'] = df_subscribers['num_ideal_streaming_services'].fillna(0)\n",
    "\n",
    "#amount user paid to sign up\n",
    "df_subscribers['join_fee'] = df_subscribers['join_fee'].fillna(0)\n",
    "\n",
    "df_subscribers.isnull().sum()"
   ]
  },
  {
   "cell_type": "code",
   "execution_count": 14,
   "metadata": {},
   "outputs": [
    {
     "data": {
      "text/plain": [
       "81720000.0"
      ]
     },
     "execution_count": 14,
     "metadata": {},
     "output_type": "execute_result"
    }
   ],
   "source": [
    "#Age\n",
    "df_subscribers['age'].max()"
   ]
  },
  {
   "cell_type": "code",
   "execution_count": 15,
   "metadata": {},
   "outputs": [
    {
     "name": "stdout",
     "output_type": "stream",
     "text": [
      "Max of age: 108.0\n",
      "Mean of age: 46.1604735652309\n"
     ]
    }
   ],
   "source": [
    "df_subscribers['age'].values[df_subscribers['age'].values > 120] = None\n",
    "print(\"Max of age:\", df_subscribers['age'].max())\n",
    "print(\"Mean of age:\", df_subscribers['age'].mean())"
   ]
  },
  {
   "cell_type": "code",
   "execution_count": 16,
   "metadata": {},
   "outputs": [
    {
     "data": {
      "text/plain": [
       "46.160398557249536"
      ]
     },
     "execution_count": 16,
     "metadata": {},
     "output_type": "execute_result"
    }
   ],
   "source": [
    "#Using the mean = 46.16 to fill the NA values\n",
    "df_subscribers['age'] = df_subscribers['age'].fillna(46.16)\n",
    "df_subscribers['age'].mean()"
   ]
  },
  {
   "cell_type": "code",
   "execution_count": 17,
   "metadata": {},
   "outputs": [
    {
     "data": {
      "text/plain": [
       "array(['access to exclusive content', 'replace OTT',\n",
       "       'expand regional access', 'supplement OTT',\n",
       "       'expand international access', 'education', 'other', nan],\n",
       "      dtype=object)"
      ]
     },
     "execution_count": 17,
     "metadata": {},
     "output_type": "execute_result"
    }
   ],
   "source": [
    "df_subscribers['intended_use'].unique()"
   ]
  },
  {
   "cell_type": "code",
   "execution_count": 18,
   "metadata": {},
   "outputs": [
    {
     "name": "stdout",
     "output_type": "stream",
     "text": [
      "<class 'pandas.core.frame.DataFrame'>\n",
      "RangeIndex: 227628 entries, 0 to 227627\n",
      "Data columns (total 31 columns):\n",
      " #   Column                        Non-Null Count   Dtype  \n",
      "---  ------                        --------------   -----  \n",
      " 0   Unnamed: 0                    227628 non-null  int64  \n",
      " 1   subid                         227628 non-null  int64  \n",
      " 2   package_type                  192054 non-null  object \n",
      " 3   num_weekly_services_utilized  227628 non-null  float64\n",
      " 4   preferred_genre               191302 non-null  object \n",
      " 5   intended_use                  224079 non-null  object \n",
      " 6   weekly_consumption_hour       227628 non-null  float64\n",
      " 7   num_ideal_streaming_services  227628 non-null  float64\n",
      " 8   age                           227628 non-null  float64\n",
      " 9   male_TF                       227359 non-null  object \n",
      " 10  country                       227628 non-null  object \n",
      " 11  attribution_technical         227628 non-null  object \n",
      " 12  attribution_survey            224984 non-null  object \n",
      " 13  op_sys                        214253 non-null  object \n",
      " 14  months_per_bill_period        227628 non-null  int64  \n",
      " 15  plan_type                     227628 non-null  object \n",
      " 16  monthly_price                 227628 non-null  float64\n",
      " 17  discount_price                227628 non-null  float64\n",
      " 18  account_creation_date         227628 non-null  object \n",
      " 19  trial_end_date                227628 non-null  object \n",
      " 20  initial_credit_card_declined  227628 non-null  bool   \n",
      " 21  join_fee                      227628 non-null  float64\n",
      " 22  language                      227628 non-null  object \n",
      " 23  payment_type                  92050 non-null   object \n",
      " 24  num_trial_days                227628 non-null  int64  \n",
      " 25  current_sub_TF                227628 non-null  bool   \n",
      " 26  payment_period                227628 non-null  int64  \n",
      " 27  last_payment                  132237 non-null  object \n",
      " 28  next_payment                  130250 non-null  object \n",
      " 29  cancel_date                   36831 non-null   object \n",
      " 30  trial_completed               227628 non-null  bool   \n",
      "dtypes: bool(3), float64(7), int64(5), object(16)\n",
      "memory usage: 49.3+ MB\n"
     ]
    }
   ],
   "source": [
    "df_subscribers.info()"
   ]
  },
  {
   "cell_type": "code",
   "execution_count": 19,
   "metadata": {},
   "outputs": [],
   "source": [
    "df_subscribers.loc[df_subscribers['cancel_date'].isnull() == False, 'cancel_date'] = 1\n",
    "df_subscribers.loc[df_subscribers['cancel_date'].isnull() == True, 'cancel_date'] = 0"
   ]
  },
  {
   "cell_type": "code",
   "execution_count": 20,
   "metadata": {},
   "outputs": [
    {
     "data": {
      "text/plain": [
       "array([0, 1], dtype=object)"
      ]
     },
     "execution_count": 20,
     "metadata": {},
     "output_type": "execute_result"
    }
   ],
   "source": [
    "df_subscribers[\"cancel_date\"].unique()"
   ]
  },
  {
   "cell_type": "code",
   "execution_count": 23,
   "metadata": {},
   "outputs": [],
   "source": [
    "del df_subscribers[\"Unnamed: 0\"]\n",
    "del df_subscribers[\"subid\"]"
   ]
  },
  {
   "cell_type": "code",
   "execution_count": 25,
   "metadata": {},
   "outputs": [],
   "source": [
    "del df_subscribers[\"next_payment\"]"
   ]
  },
  {
   "cell_type": "code",
   "execution_count": 26,
   "metadata": {},
   "outputs": [
    {
     "name": "stdout",
     "output_type": "stream",
     "text": [
      "<class 'pandas.core.frame.DataFrame'>\n",
      "RangeIndex: 227628 entries, 0 to 227627\n",
      "Data columns (total 28 columns):\n",
      " #   Column                        Non-Null Count   Dtype  \n",
      "---  ------                        --------------   -----  \n",
      " 0   package_type                  192054 non-null  object \n",
      " 1   num_weekly_services_utilized  227628 non-null  float64\n",
      " 2   preferred_genre               191302 non-null  object \n",
      " 3   intended_use                  224079 non-null  object \n",
      " 4   weekly_consumption_hour       227628 non-null  float64\n",
      " 5   num_ideal_streaming_services  227628 non-null  float64\n",
      " 6   age                           227628 non-null  float64\n",
      " 7   male_TF                       227359 non-null  object \n",
      " 8   country                       227628 non-null  object \n",
      " 9   attribution_technical         227628 non-null  object \n",
      " 10  attribution_survey            224984 non-null  object \n",
      " 11  op_sys                        214253 non-null  object \n",
      " 12  months_per_bill_period        227628 non-null  int64  \n",
      " 13  plan_type                     227628 non-null  object \n",
      " 14  monthly_price                 227628 non-null  float64\n",
      " 15  discount_price                227628 non-null  float64\n",
      " 16  account_creation_date         227628 non-null  object \n",
      " 17  trial_end_date                227628 non-null  object \n",
      " 18  initial_credit_card_declined  227628 non-null  bool   \n",
      " 19  join_fee                      227628 non-null  float64\n",
      " 20  language                      227628 non-null  object \n",
      " 21  payment_type                  92050 non-null   object \n",
      " 22  num_trial_days                227628 non-null  int64  \n",
      " 23  current_sub_TF                227628 non-null  bool   \n",
      " 24  payment_period                227628 non-null  int64  \n",
      " 25  last_payment                  132237 non-null  object \n",
      " 26  cancel_date                   227628 non-null  object \n",
      " 27  trial_completed               227628 non-null  bool   \n",
      "dtypes: bool(3), float64(7), int64(3), object(15)\n",
      "memory usage: 44.1+ MB\n"
     ]
    }
   ],
   "source": [
    "df_subscribers.info()"
   ]
  },
  {
   "cell_type": "code",
   "execution_count": 31,
   "metadata": {},
   "outputs": [],
   "source": [
    "df_subscribers[\"package_type\"]=df_subscribers[\"package_type\"].fillna(\"Unknown\")"
   ]
  },
  {
   "cell_type": "code",
   "execution_count": 37,
   "metadata": {},
   "outputs": [
    {
     "data": {
      "text/plain": [
       "package_type                        0\n",
       "num_weekly_services_utilized        0\n",
       "preferred_genre                     0\n",
       "intended_use                     3549\n",
       "weekly_consumption_hour             0\n",
       "num_ideal_streaming_services        0\n",
       "age                                 0\n",
       "male_TF                           269\n",
       "country                             0\n",
       "attribution_technical               0\n",
       "attribution_survey               2644\n",
       "op_sys                          13375\n",
       "months_per_bill_period              0\n",
       "plan_type                           0\n",
       "monthly_price                       0\n",
       "discount_price                      0\n",
       "account_creation_date               0\n",
       "trial_end_date                      0\n",
       "initial_credit_card_declined        0\n",
       "join_fee                            0\n",
       "language                            0\n",
       "payment_type                        0\n",
       "num_trial_days                      0\n",
       "current_sub_TF                      0\n",
       "payment_period                      0\n",
       "last_payment                    95391\n",
       "cancel_date                         0\n",
       "trial_completed                     0\n",
       "dtype: int64"
      ]
     },
     "execution_count": 37,
     "metadata": {},
     "output_type": "execute_result"
    }
   ],
   "source": [
    "df_subscribers.isnull().sum()"
   ]
  },
  {
   "cell_type": "code",
   "execution_count": 33,
   "metadata": {},
   "outputs": [],
   "source": [
    "df_subscribers[\"payment_type\"]=df_subscribers[\"payment_type\"].fillna(\"Unknown\")"
   ]
  },
  {
   "cell_type": "code",
   "execution_count": 34,
   "metadata": {},
   "outputs": [],
   "source": [
    "df_subscribers[\"preferred_genre\"]=df_subscribers[\"preferred_genre\"].fillna(\"Unknown\")"
   ]
  },
  {
   "cell_type": "code",
   "execution_count": 44,
   "metadata": {},
   "outputs": [],
   "source": [
    "df1=df_subscribers.copy()"
   ]
  },
  {
   "cell_type": "code",
   "execution_count": 46,
   "metadata": {},
   "outputs": [],
   "source": [
    "del df1[\"last_payment\"]"
   ]
  },
  {
   "cell_type": "code",
   "execution_count": 47,
   "metadata": {},
   "outputs": [
    {
     "data": {
      "text/plain": [
       "package_type                        0\n",
       "num_weekly_services_utilized        0\n",
       "preferred_genre                     0\n",
       "intended_use                     3549\n",
       "weekly_consumption_hour             0\n",
       "num_ideal_streaming_services        0\n",
       "age                                 0\n",
       "male_TF                           269\n",
       "country                             0\n",
       "attribution_technical               0\n",
       "attribution_survey               2644\n",
       "op_sys                          13375\n",
       "months_per_bill_period              0\n",
       "plan_type                           0\n",
       "monthly_price                       0\n",
       "discount_price                      0\n",
       "account_creation_date               0\n",
       "trial_end_date                      0\n",
       "initial_credit_card_declined        0\n",
       "join_fee                            0\n",
       "language                            0\n",
       "payment_type                        0\n",
       "num_trial_days                      0\n",
       "current_sub_TF                      0\n",
       "payment_period                      0\n",
       "cancel_date                         0\n",
       "trial_completed                     0\n",
       "dtype: int64"
      ]
     },
     "execution_count": 47,
     "metadata": {},
     "output_type": "execute_result"
    }
   ],
   "source": [
    "df1.isnull().sum()"
   ]
  },
  {
   "cell_type": "code",
   "execution_count": 48,
   "metadata": {},
   "outputs": [
    {
     "data": {
      "text/plain": [
       "package_type                    0\n",
       "num_weekly_services_utilized    0\n",
       "preferred_genre                 0\n",
       "intended_use                    0\n",
       "weekly_consumption_hour         0\n",
       "num_ideal_streaming_services    0\n",
       "age                             0\n",
       "male_TF                         0\n",
       "country                         0\n",
       "attribution_technical           0\n",
       "attribution_survey              0\n",
       "op_sys                          0\n",
       "months_per_bill_period          0\n",
       "plan_type                       0\n",
       "monthly_price                   0\n",
       "discount_price                  0\n",
       "account_creation_date           0\n",
       "trial_end_date                  0\n",
       "initial_credit_card_declined    0\n",
       "join_fee                        0\n",
       "language                        0\n",
       "payment_type                    0\n",
       "num_trial_days                  0\n",
       "current_sub_TF                  0\n",
       "payment_period                  0\n",
       "cancel_date                     0\n",
       "trial_completed                 0\n",
       "dtype: int64"
      ]
     },
     "execution_count": 48,
     "metadata": {},
     "output_type": "execute_result"
    }
   ],
   "source": [
    "df1 = df1.dropna()\n",
    "df1.isnull().sum()"
   ]
  },
  {
   "cell_type": "code",
   "execution_count": 61,
   "metadata": {},
   "outputs": [
    {
     "name": "stdout",
     "output_type": "stream",
     "text": [
      "<class 'pandas.core.frame.DataFrame'>\n",
      "Int64Index: 210428 entries, 0 to 227627\n",
      "Data columns (total 28 columns):\n",
      " #   Column                        Non-Null Count   Dtype  \n",
      "---  ------                        --------------   -----  \n",
      " 0   package_type                  210428 non-null  object \n",
      " 1   num_weekly_services_utilized  210428 non-null  float64\n",
      " 2   preferred_genre               210428 non-null  object \n",
      " 3   intended_use                  210428 non-null  object \n",
      " 4   weekly_consumption_hour       210428 non-null  float64\n",
      " 5   num_ideal_streaming_services  210428 non-null  float64\n",
      " 6   age                           210428 non-null  float64\n",
      " 7   male_TF                       210428 non-null  object \n",
      " 8   country                       210428 non-null  object \n",
      " 9   attribution_technical         210428 non-null  object \n",
      " 10  attribution_survey            210428 non-null  object \n",
      " 11  op_sys                        210428 non-null  object \n",
      " 12  months_per_bill_period        210428 non-null  int64  \n",
      " 13  plan_type                     210428 non-null  object \n",
      " 14  monthly_price                 210428 non-null  float64\n",
      " 15  discount_price                210428 non-null  float64\n",
      " 16  account_creation_date         210428 non-null  object \n",
      " 17  trial_end_date                210428 non-null  object \n",
      " 18  initial_credit_card_declined  210428 non-null  bool   \n",
      " 19  join_fee                      210428 non-null  float64\n",
      " 20  language                      210428 non-null  object \n",
      " 21  payment_type                  210428 non-null  object \n",
      " 22  num_trial_days                210428 non-null  int64  \n",
      " 23  current_sub_TF                210428 non-null  bool   \n",
      " 24  payment_period                210428 non-null  int64  \n",
      " 25  cancel_date                   210428 non-null  object \n",
      " 26  trial_completed               210428 non-null  bool   \n",
      " 27  gender                        210428 non-null  float64\n",
      "dtypes: bool(3), float64(8), int64(3), object(14)\n",
      "memory usage: 42.3+ MB\n"
     ]
    }
   ],
   "source": [
    "df1.info()"
   ]
  },
  {
   "cell_type": "code",
   "execution_count": 62,
   "metadata": {},
   "outputs": [],
   "source": [
    "df1.to_csv('data_cleaning_v1.csv')"
   ]
  },
  {
   "cell_type": "code",
   "execution_count": 59,
   "metadata": {},
   "outputs": [
    {
     "data": {
      "text/plain": [
       "array([False, True], dtype=object)"
      ]
     },
     "execution_count": 59,
     "metadata": {},
     "output_type": "execute_result"
    }
   ],
   "source": [
    "df1['male_TF'].unique()"
   ]
  },
  {
   "cell_type": "code",
   "execution_count": 58,
   "metadata": {},
   "outputs": [
    {
     "data": {
      "text/plain": [
       "array([14])"
      ]
     },
     "execution_count": 58,
     "metadata": {},
     "output_type": "execute_result"
    }
   ],
   "source": [
    "df1[\"payment_method\"]"
   ]
  },
  {
   "cell_type": "code",
   "execution_count": 60,
   "metadata": {},
   "outputs": [],
   "source": [
    "df1.loc[df1['male_TF'] == True, 'gender'] = 1\n",
    "df1.loc[df1['male_TF'] == False, 'gender'] = 0"
   ]
  },
  {
   "cell_type": "code",
   "execution_count": null,
   "metadata": {},
   "outputs": [],
   "source": [
    "df_subscribers=df_subscribers.append(pd.get_dummies(df_subscribers[\"preferred_genre\"]))"
   ]
  },
  {
   "cell_type": "code",
   "execution_count": null,
   "metadata": {},
   "outputs": [],
   "source": [
    "df_subscribers[\"cancel_date\"].unique()\n",
    "\n",
    "df_subscribers.loc[df_subscribers['cancel_date'].isnull() == True, 'already_cancelled'] = 0\n",
    "df_subscribers.loc[df_subscribers['cancel_date'].isnull() == False, 'already_cancelled'] = 1"
   ]
  },
  {
   "cell_type": "code",
   "execution_count": null,
   "metadata": {},
   "outputs": [],
   "source": []
  },
  {
   "cell_type": "code",
   "execution_count": null,
   "metadata": {},
   "outputs": [],
   "source": [
    "df_subscribers.info()"
   ]
  },
  {
   "cell_type": "code",
   "execution_count": null,
   "metadata": {},
   "outputs": [],
   "source": [
    "df1 = df_subscribers.head(227628)"
   ]
  },
  {
   "cell_type": "code",
   "execution_count": null,
   "metadata": {},
   "outputs": [],
   "source": [
    "df1.isnull().sum()"
   ]
  },
  {
   "cell_type": "markdown",
   "metadata": {},
   "source": [
    "### A/B Testing"
   ]
  },
  {
   "cell_type": "code",
   "execution_count": 369,
   "metadata": {},
   "outputs": [],
   "source": [
    "import random\n",
    "import scipy\n",
    "import math\n",
    "from random import sample"
   ]
  },
  {
   "cell_type": "code",
   "execution_count": 293,
   "metadata": {},
   "outputs": [],
   "source": [
    "df_ab=df_subscribers.copy()"
   ]
  },
  {
   "cell_type": "code",
   "execution_count": 294,
   "metadata": {},
   "outputs": [],
   "source": [
    "df_ab.drop(df_ab.iloc[:, 28:31], inplace = True, axis = 1) "
   ]
  },
  {
   "cell_type": "code",
   "execution_count": 295,
   "metadata": {},
   "outputs": [],
   "source": [
    "df_ab.drop(df_ab.iloc[:, 0:15], inplace = True, axis = 1) "
   ]
  },
  {
   "cell_type": "code",
   "execution_count": 297,
   "metadata": {},
   "outputs": [],
   "source": [
    "df_ab.drop(df_ab.iloc[:, 1:10], inplace = True, axis = 1) "
   ]
  },
  {
   "cell_type": "code",
   "execution_count": 299,
   "metadata": {},
   "outputs": [],
   "source": [
    "del df_ab[\"payment_period\"]"
   ]
  },
  {
   "cell_type": "code",
   "execution_count": 300,
   "metadata": {},
   "outputs": [
    {
     "name": "stdout",
     "output_type": "stream",
     "text": [
      "<class 'pandas.core.frame.DataFrame'>\n",
      "RangeIndex: 227628 entries, 0 to 227627\n",
      "Data columns (total 3 columns):\n",
      " #   Column          Non-Null Count   Dtype \n",
      "---  ------          --------------   ----- \n",
      " 0   plan_type       227628 non-null  object\n",
      " 1   current_sub_TF  227628 non-null  bool  \n",
      " 2   last_payment    132237 non-null  object\n",
      "dtypes: bool(1), object(2)\n",
      "memory usage: 3.7+ MB\n"
     ]
    }
   ],
   "source": [
    "df_ab.info()"
   ]
  },
  {
   "cell_type": "code",
   "execution_count": 312,
   "metadata": {},
   "outputs": [
    {
     "data": {
      "text/plain": [
       "array(['base_uae_14_day_trial', 'high_uae_14_day_trial',\n",
       "       'low_uae_no_trial', 'base_eur_14_day_trial',\n",
       "       'high_aud_14_day_trial', 'high_sar_14_day_trial',\n",
       "       'low_gbp_14_day_trial', 'low_eur_no_trial',\n",
       "       'base_uae_no_trial_7_day_guarantee', 'low_sar_no_trial',\n",
       "       'high_jpy_14_day_trial'], dtype=object)"
      ]
     },
     "execution_count": 312,
     "metadata": {},
     "output_type": "execute_result"
    }
   ],
   "source": [
    "df_ab[\"plan_type\"].unique()"
   ]
  },
  {
   "cell_type": "code",
   "execution_count": 340,
   "metadata": {},
   "outputs": [],
   "source": [
    "df_ab.loc[df_ab[\"current_sub_TF\"]==False, \"current_sub_TF\"] = 0\n",
    "df_ab.loc[df_ab[\"current_sub_TF\"]==True, \"current_sub_TF\"] = 1"
   ]
  },
  {
   "cell_type": "code",
   "execution_count": 348,
   "metadata": {},
   "outputs": [],
   "source": [
    "df_base = df_ab[df_ab.plan_type == 'base_uae_14_day_trial']\n",
    "df_high = df_ab[df_ab.plan_type == 'high_uae_14_day_trial']\n",
    "df_low = df_ab[df_ab.plan_type == 'low_uae_no_trial']\n",
    "#low: 167   High:325\n",
    "\n",
    "df_subscribers.loc[df_subscribers['cancel_date'].isnull() == True, 'already_cancelled'] = 0"
   ]
  },
  {
   "cell_type": "code",
   "execution_count": 349,
   "metadata": {},
   "outputs": [],
   "source": [
    "base=[]\n",
    "for i in df_base[\"current_sub_TF\"]:\n",
    "    base.append(i)\n",
    "    \n",
    "base_h=random.sample(base_h, 325)\n",
    "base_l=random.sample(base_h, 167)"
   ]
  },
  {
   "cell_type": "code",
   "execution_count": 350,
   "metadata": {},
   "outputs": [],
   "source": [
    "high=[]\n",
    "for i in df_high[\"current_sub_TF\"]:\n",
    "    high.append(i)\n",
    "    \n",
    "low=[]\n",
    "for n in df_low[\"current_sub_TF\"]:\n",
    "    low.append(n)"
   ]
  },
  {
   "cell_type": "code",
   "execution_count": 354,
   "metadata": {},
   "outputs": [],
   "source": [
    "norm = scipy.stats.norm()"
   ]
  },
  {
   "cell_type": "code",
   "execution_count": 355,
   "metadata": {},
   "outputs": [],
   "source": [
    "#Function used in HW01\n",
    "def t_test(List_A,List_B,confidence_level):\n",
    "    Mean_A = np.mean(List_A)\n",
    "    Mean_B = np.mean(List_B)\n",
    "    s = 0\n",
    "    \n",
    "    for i in range(len(List_A)):\n",
    "        s = s + (List_A[i] - Mean_A)**2\n",
    "    for j in range(len(List_B)):\n",
    "        s = s + (List_B[j] - Mean_B)**2\n",
    "        \n",
    "    s = np.sqrt(s /(len(List_A) + len(List_B) - 2))\n",
    "    t_stats = (Mean_B-Mean_A) / (s*np.sqrt(1/len(List_A) + 1/len(List_B)))\n",
    "    \n",
    "    if t_stats >= norm.ppf(confidence_level):\n",
    "        print('Improvment of treatment group B is siginificant.')\n",
    "    else:\n",
    "        print('Improvment of treatment group B is not quite siginificant.')\n",
    "        \n",
    "    print('The T-score is: ', t_stats)\n",
    "    return t_stats"
   ]
  },
  {
   "cell_type": "code",
   "execution_count": 356,
   "metadata": {},
   "outputs": [
    {
     "name": "stdout",
     "output_type": "stream",
     "text": [
      "Improvment of treatment group B is not quite siginificant.\n",
      "The T-score is:  -1.269276814339366\n"
     ]
    },
    {
     "data": {
      "text/plain": [
       "-1.269276814339366"
      ]
     },
     "execution_count": 356,
     "metadata": {},
     "output_type": "execute_result"
    }
   ],
   "source": [
    "#At 95% confidence interval\n",
    "t_test(base_h,high,0.95)"
   ]
  },
  {
   "cell_type": "code",
   "execution_count": 357,
   "metadata": {},
   "outputs": [
    {
     "name": "stdout",
     "output_type": "stream",
     "text": [
      "Improvment of treatment group B is not quite siginificant.\n",
      "The T-score is:  -5.9233277639450685\n"
     ]
    },
    {
     "data": {
      "text/plain": [
       "-5.9233277639450685"
      ]
     },
     "execution_count": 357,
     "metadata": {},
     "output_type": "execute_result"
    }
   ],
   "source": [
    "#At 95% confidence interval\n",
    "t_test(base_l,low,0.95)"
   ]
  },
  {
   "cell_type": "code",
   "execution_count": 370,
   "metadata": {},
   "outputs": [],
   "source": [
    "def t_test_sequential(List_A,List_B,confidence_level,sample_size,n_times,power):\n",
    "    ttl_iteration = []\n",
    "    \n",
    "    for i in range(n_times):\n",
    "        Size_A = sample(List_A,sample_size)\n",
    "        Size_B = sample(List_A,sample_size)\n",
    "        ln_A = np.log(1/(1-confidence_level))\n",
    "        ln_B = np.log(1-power)\n",
    "        total_sample = Size_A + Size_B\n",
    "        random.shuffle(total_sample)\n",
    "        p_A = np.mean(Size_A)\n",
    "        p_B = np.mean(Size_B)\n",
    "        accumulative_log_lamda = 0\n",
    "        t=0\n",
    "        \n",
    "        while (accumulative_log_lamda>ln_B) and (accumulative_log_lamda <ln_A):\n",
    "            if total_sample[t]:\n",
    "                accumulative_log_lamda += np.log(p_A/p_B)\n",
    "            else:\n",
    "                accumulative_log_lamda += np.log((1-p_A)/(1-p_B))\n",
    "            t += 1\n",
    "            if t >= len(total_sample):\n",
    "                print('Cannot reject or accept H0')\n",
    "                break\n",
    "            else:\n",
    "                continue\n",
    "                \n",
    "        if accumulative_log_lamda <= ln_B:\n",
    "            print(\"Accept H0 in\",t,\"trials.\")\n",
    "    \n",
    "        elif accumulative_log_lamda >= ln_A:\n",
    "            print(\"Reject H0 in\",t,\"trials.\")\n",
    "            \n",
    "        ttl_iteration.append(t)\n",
    "        \n",
    "    average_iteration = np.average(ttl_iteration)\n",
    "    return np.average(average_iteration)"
   ]
  },
  {
   "cell_type": "markdown",
   "metadata": {},
   "source": [
    "### Clustering"
   ]
  },
  {
   "cell_type": "code",
   "execution_count": 66,
   "metadata": {},
   "outputs": [],
   "source": [
    "import pandas as pd\n",
    "import numpy as np \n",
    "import matplotlib.pyplot as plt\n",
    "from sklearn.cluster import KMeans"
   ]
  },
  {
   "cell_type": "code",
   "execution_count": 472,
   "metadata": {},
   "outputs": [],
   "source": [
    "df_cluster=df1.copy()"
   ]
  },
  {
   "cell_type": "markdown",
   "metadata": {},
   "source": [
    "#### Clustering for all existing customers (current_sub_TF == True)"
   ]
  },
  {
   "cell_type": "code",
   "execution_count": 473,
   "metadata": {},
   "outputs": [],
   "source": [
    "df_cluster = df_cluster[df_cluster.current_sub_TF== True]"
   ]
  },
  {
   "cell_type": "code",
   "execution_count": 474,
   "metadata": {},
   "outputs": [],
   "source": [
    "del df_cluster[\"male_TF\"]\n",
    "del df_cluster[\"country\"]\n",
    "del df_cluster[\"attribution_technical\"]\n",
    "del df_cluster[\"attribution_survey\"]\n",
    "del df_cluster[\"language\"]\n",
    "del df_cluster[\"payment_type\"]\n",
    "del df_cluster[\"cancel_date\"]\n",
    "del df_cluster[\"plan_type\"]\n",
    "del df_cluster[\"account_creation_date\"]\n",
    "del df_cluster[\"trial_end_date\"]\n",
    "del df_cluster[\"num_trial_days\"]\n",
    "del df_cluster[\"join_fee\"]\n",
    "del df_cluster[\"monthly_price\"]\n",
    "del df_cluster[\"discount_price\"]\n",
    "del df_cluster[\"months_per_bill_period\"]\n",
    "del df_cluster[\"trial_completed\"]\n",
    "del df_cluster[\"current_sub_TF\"]"
   ]
  },
  {
   "cell_type": "code",
   "execution_count": 475,
   "metadata": {},
   "outputs": [
    {
     "data": {
      "text/plain": [
       "array(['economy', 'base', 'enhanced', 'Unknown'], dtype=object)"
      ]
     },
     "execution_count": 475,
     "metadata": {},
     "output_type": "execute_result"
    }
   ],
   "source": [
    "df_cluster[\"package_type\"].unique()"
   ]
  },
  {
   "cell_type": "code",
   "execution_count": 476,
   "metadata": {},
   "outputs": [],
   "source": [
    "#Turn package_type to numeric\n",
    "\n",
    "df_cluster.loc[df_cluster['package_type'] != \"base\",'package_base'] = 0\n",
    "df_cluster.loc[df_cluster['package_type'] == \"base\",'package_base'] = 1\n",
    "\n",
    "df_cluster.loc[df_cluster['package_type'] != \"economy\",'package_econ'] = 0\n",
    "df_cluster.loc[df_cluster['package_type'] == \"economy\",'package_econ'] = 1\n",
    "\n",
    "df_cluster.loc[df_cluster['package_type'] != \"enhanced\",'package_enhanced'] = 0\n",
    "df_cluster.loc[df_cluster['package_type'] == \"enhanced\",'package_enhanced'] = 1\n",
    "\n",
    "del df_cluster[\"package_type\"]"
   ]
  },
  {
   "cell_type": "code",
   "execution_count": 477,
   "metadata": {},
   "outputs": [],
   "source": [
    "#Turn intended_use to numeric\n",
    "\n",
    "\n",
    "df_cluster.loc[df_cluster[\"intended_use\"] != \"access to exclusive content\",'intended_exclusive'] = 0\n",
    "df_cluster.loc[df_cluster[\"intended_use\"] == \"access to exclusive content\",'intended_exclusive'] = 1\n",
    "\n",
    "df_cluster.loc[df_cluster[\"intended_use\"] != \"replace OTT\",'intended_replace_OTT'] = 0\n",
    "df_cluster.loc[df_cluster[\"intended_use\"] == \"replace OTT\",'intended_replace_OTT'] = 1\n",
    "\n",
    "df_cluster.loc[df_cluster[\"intended_use\"] != 'supplement OTT','supplement OTT'] = 0\n",
    "df_cluster.loc[df_cluster[\"intended_use\"] == 'supplement OTT','supplement OTT'] = 1\n",
    "\n",
    "df_cluster.loc[df_cluster[\"intended_use\"] != 'expand international access','expand international access'] = 0\n",
    "df_cluster.loc[df_cluster[\"intended_use\"] == 'expand international access','expand international access'] = 1\n",
    "\n",
    "df_cluster.loc[df_cluster[\"intended_use\"] != 'expand regional access','expand regional access'] = 0\n",
    "df_cluster.loc[df_cluster[\"intended_use\"] == 'expand regional access','expand regional access'] = 1\n",
    "\n",
    "df_cluster.loc[df_cluster[\"intended_use\"] != 'education','education'] = 0\n",
    "df_cluster.loc[df_cluster[\"intended_use\"] == 'education','education'] = 1\n",
    "\n",
    "del df_cluster[\"intended_use\"]"
   ]
  },
  {
   "cell_type": "code",
   "execution_count": 478,
   "metadata": {},
   "outputs": [],
   "source": [
    "#Turn preferred_genre to numeric\n",
    "\n",
    "df_cluster.loc[df_cluster['preferred_genre'] != \"comedy\",'genre_comedy'] = 0\n",
    "df_cluster.loc[df_cluster['preferred_genre'] == \"comedy\",'genre_comedy'] = 1\n",
    "\n",
    "df_cluster.loc[df_cluster['preferred_genre'] != 'drama','genre_drama'] = 0\n",
    "df_cluster.loc[df_cluster['preferred_genre'] == 'drama','genre_drama'] = 1\n",
    "\n",
    "df_cluster.loc[df_cluster['preferred_genre'] != 'regional','genre_regional'] = 0\n",
    "df_cluster.loc[df_cluster['preferred_genre'] == 'regional','genre_regional'] = 1\n",
    "\n",
    "df_cluster.loc[df_cluster['preferred_genre'] != 'international','genre_international'] = 0\n",
    "df_cluster.loc[df_cluster['preferred_genre'] == 'international','genre_international'] = 1\n",
    "\n",
    "del df_cluster[\"preferred_genre\"]"
   ]
  },
  {
   "cell_type": "code",
   "execution_count": 479,
   "metadata": {},
   "outputs": [],
   "source": [
    "#Turn op_sys\n",
    "\n",
    "df_cluster.loc[df_cluster['op_sys'] != \"iOS\",'op_ios'] = 0\n",
    "df_cluster.loc[df_cluster['op_sys'] == \"iOS\",'op_ios'] = 1\n",
    "\n",
    "del df_cluster['op_sys']"
   ]
  },
  {
   "cell_type": "code",
   "execution_count": 480,
   "metadata": {},
   "outputs": [],
   "source": [
    "#Function used in HW02\n",
    "def fitting(df):\n",
    "    Sum_of_squared_distances = []\n",
    "    K = range(1,15)\n",
    "    for k in K:\n",
    "        km = KMeans(n_clusters=k)\n",
    "        km = km.fit(df)\n",
    "        Sum_of_squared_distances.append(km.inertia_)\n",
    "    plt.plot(K, Sum_of_squared_distances, 'bx-',color=\"r\")\n",
    "    plt.xlabel('k')\n",
    "    plt.ylabel('Sum_of_squared_distances')\n",
    "    plt.title('Elbow Method For Optimal k')\n",
    "    plt.show()\n",
    "    return "
   ]
  },
  {
   "cell_type": "code",
   "execution_count": 481,
   "metadata": {},
   "outputs": [
    {
     "data": {
      "image/png": "[encoded data removed]",
      "text/plain": [
       "<Figure size 432x288 with 1 Axes>"
      ]
     },
     "metadata": {
      "needs_background": "light"
     },
     "output_type": "display_data"
    }
   ],
   "source": [
    "fitting(df_cluster)"
   ]
  },
  {
   "cell_type": "code",
   "execution_count": 482,
   "metadata": {},
   "outputs": [
    {
     "name": "stdout",
     "output_type": "stream",
     "text": [
      "<class 'pandas.core.frame.DataFrame'>\n",
      "Int64Index: 121920 entries, 0 to 227626\n",
      "Data columns (total 21 columns):\n",
      " #   Column                        Non-Null Count   Dtype  \n",
      "---  ------                        --------------   -----  \n",
      " 0   num_weekly_services_utilized  121920 non-null  float64\n",
      " 1   weekly_consumption_hour       121920 non-null  float64\n",
      " 2   num_ideal_streaming_services  121920 non-null  float64\n",
      " 3   age                           121920 non-null  float64\n",
      " 4   initial_credit_card_declined  121920 non-null  bool   \n",
      " 5   payment_period                121920 non-null  int64  \n",
      " 6   gender                        121920 non-null  float64\n",
      " 7   package_base                  121920 non-null  float64\n",
      " 8   package_econ                  121920 non-null  float64\n",
      " 9   package_enhanced              121920 non-null  float64\n",
      " 10  intended_exclusive            121920 non-null  float64\n",
      " 11  intended_replace_OTT          121920 non-null  float64\n",
      " 12  supplement OTT                121920 non-null  float64\n",
      " 13  expand international access   121920 non-null  float64\n",
      " 14  expand regional access        121920 non-null  float64\n",
      " 15  education                     121920 non-null  float64\n",
      " 16  genre_comedy                  121920 non-null  float64\n",
      " 17  genre_drama                   121920 non-null  float64\n",
      " 18  genre_regional                121920 non-null  float64\n",
      " 19  genre_international           121920 non-null  float64\n",
      " 20  op_ios                        121920 non-null  float64\n",
      "dtypes: bool(1), float64(19), int64(1)\n",
      "memory usage: 19.6 MB\n"
     ]
    }
   ],
   "source": [
    "df_cluster.info()"
   ]
  },
  {
   "cell_type": "code",
   "execution_count": 469,
   "metadata": {},
   "outputs": [],
   "source": [
    "del df_cluster[\"op_ios\"]"
   ]
  },
  {
   "cell_type": "code",
   "execution_count": 484,
   "metadata": {},
   "outputs": [],
   "source": [
    "#determine K=3\n",
    "kmean=KMeans(n_clusters=3).fit(df_cluster)"
   ]
  },
  {
   "cell_type": "code",
   "execution_count": 485,
   "metadata": {},
   "outputs": [
    {
     "data": {
      "text/html": [
       "<div>\n",
       "<style scoped>\n",
       "    .dataframe tbody tr th:only-of-type {\n",
       "        vertical-align: middle;\n",
       "    }\n",
       "\n",
       "    .dataframe tbody tr th {\n",
       "        vertical-align: top;\n",
       "    }\n",
       "\n",
       "    .dataframe thead th {\n",
       "        text-align: right;\n",
       "    }\n",
       "</style>\n",
       "<table border=\"1\" class=\"dataframe\">\n",
       "  <thead>\n",
       "    <tr style=\"text-align: right;\">\n",
       "      <th></th>\n",
       "      <th>num_weekly_services_utilized</th>\n",
       "      <th>weekly_consumption_hour</th>\n",
       "      <th>num_ideal_streaming_services</th>\n",
       "      <th>age</th>\n",
       "      <th>initial_credit_card_declined</th>\n",
       "      <th>payment_period</th>\n",
       "      <th>gender</th>\n",
       "      <th>package_base</th>\n",
       "      <th>package_econ</th>\n",
       "      <th>package_enhanced</th>\n",
       "      <th>...</th>\n",
       "      <th>intended_replace_OTT</th>\n",
       "      <th>supplement OTT</th>\n",
       "      <th>expand international access</th>\n",
       "      <th>expand regional access</th>\n",
       "      <th>education</th>\n",
       "      <th>genre_comedy</th>\n",
       "      <th>genre_drama</th>\n",
       "      <th>genre_regional</th>\n",
       "      <th>genre_international</th>\n",
       "      <th>op_ios</th>\n",
       "    </tr>\n",
       "  </thead>\n",
       "  <tbody>\n",
       "    <tr>\n",
       "      <th>0</th>\n",
       "      <td>2.169322</td>\n",
       "      <td>28.483032</td>\n",
       "      <td>1.388566</td>\n",
       "      <td>54.827455</td>\n",
       "      <td>0.039880</td>\n",
       "      <td>1.275692</td>\n",
       "      <td>0.130272</td>\n",
       "      <td>0.568759</td>\n",
       "      <td>0.076683</td>\n",
       "      <td>0.320986</td>\n",
       "      <td>...</td>\n",
       "      <td>0.160264</td>\n",
       "      <td>0.178665</td>\n",
       "      <td>0.012508</td>\n",
       "      <td>0.017528</td>\n",
       "      <td>0.005021</td>\n",
       "      <td>0.686043</td>\n",
       "      <td>0.199969</td>\n",
       "      <td>0.032066</td>\n",
       "      <td>0.036955</td>\n",
       "      <td>0.642888</td>\n",
       "    </tr>\n",
       "    <tr>\n",
       "      <th>1</th>\n",
       "      <td>2.063055</td>\n",
       "      <td>28.508441</td>\n",
       "      <td>1.354771</td>\n",
       "      <td>32.453452</td>\n",
       "      <td>0.057194</td>\n",
       "      <td>1.326918</td>\n",
       "      <td>0.120114</td>\n",
       "      <td>0.479468</td>\n",
       "      <td>0.043017</td>\n",
       "      <td>0.424073</td>\n",
       "      <td>...</td>\n",
       "      <td>0.278737</td>\n",
       "      <td>0.175529</td>\n",
       "      <td>0.022069</td>\n",
       "      <td>0.023481</td>\n",
       "      <td>0.007350</td>\n",
       "      <td>0.697356</td>\n",
       "      <td>0.158159</td>\n",
       "      <td>0.054835</td>\n",
       "      <td>0.023559</td>\n",
       "      <td>0.653585</td>\n",
       "    </tr>\n",
       "    <tr>\n",
       "      <th>2</th>\n",
       "      <td>0.023231</td>\n",
       "      <td>0.004862</td>\n",
       "      <td>0.007006</td>\n",
       "      <td>46.162691</td>\n",
       "      <td>0.001926</td>\n",
       "      <td>1.280534</td>\n",
       "      <td>0.031343</td>\n",
       "      <td>0.678248</td>\n",
       "      <td>0.024378</td>\n",
       "      <td>0.296800</td>\n",
       "      <td>...</td>\n",
       "      <td>0.188921</td>\n",
       "      <td>0.122014</td>\n",
       "      <td>0.000246</td>\n",
       "      <td>0.000164</td>\n",
       "      <td>0.000205</td>\n",
       "      <td>0.856803</td>\n",
       "      <td>0.125456</td>\n",
       "      <td>0.009669</td>\n",
       "      <td>0.006719</td>\n",
       "      <td>0.778711</td>\n",
       "    </tr>\n",
       "  </tbody>\n",
       "</table>\n",
       "<p>3 rows × 21 columns</p>\n",
       "</div>"
      ],
      "text/plain": [
       "   num_weekly_services_utilized  weekly_consumption_hour   \\\n",
       "0                      2.169322                 28.483032   \n",
       "1                      2.063055                 28.508441   \n",
       "2                      0.023231                  0.004862   \n",
       "\n",
       "   num_ideal_streaming_services        age  initial_credit_card_declined  \\\n",
       "0                      1.388566  54.827455                      0.039880   \n",
       "1                      1.354771  32.453452                      0.057194   \n",
       "2                      0.007006  46.162691                      0.001926   \n",
       "\n",
       "   payment_period    gender  package_base  package_econ  package_enhanced  \\\n",
       "0        1.275692  0.130272      0.568759      0.076683          0.320986   \n",
       "1        1.326918  0.120114      0.479468      0.043017          0.424073   \n",
       "2        1.280534  0.031343      0.678248      0.024378          0.296800   \n",
       "\n",
       "   ...  intended_replace_OTT  supplement OTT  expand international access  \\\n",
       "0  ...              0.160264        0.178665                     0.012508   \n",
       "1  ...              0.278737        0.175529                     0.022069   \n",
       "2  ...              0.188921        0.122014                     0.000246   \n",
       "\n",
       "   expand regional access  education  genre_comedy  genre_drama  \\\n",
       "0                0.017528   0.005021      0.686043     0.199969   \n",
       "1                0.023481   0.007350      0.697356     0.158159   \n",
       "2                0.000164   0.000205      0.856803     0.125456   \n",
       "\n",
       "   genre_regional  genre_international    op_ios  \n",
       "0        0.032066             0.036955  0.642888  \n",
       "1        0.054835             0.023559  0.653585  \n",
       "2        0.009669             0.006719  0.778711  \n",
       "\n",
       "[3 rows x 21 columns]"
      ]
     },
     "execution_count": 485,
     "metadata": {},
     "output_type": "execute_result"
    }
   ],
   "source": [
    "x = pd.DataFrame(kmean.cluster_centers_, columns=[\"num_weekly_services_utilized\",\"weekly_consumption_hour \",\"num_ideal_streaming_services\",\"age\",\"initial_credit_card_declined\",\n",
    "                                                 \"payment_period\",\"gender\",\"package_base\",\"package_econ\",\"package_enhanced\",\"intended_exclusive\",\"intended_replace_OTT\",\"supplement OTT\",\"expand international access\",\n",
    "                                                 \"expand regional access\",\"education\",\"genre_comedy\",\"genre_drama\",\"genre_regional\",\"genre_international\",\"op_ios\"])\n",
    "x"
   ]
  },
  {
   "cell_type": "code",
   "execution_count": 486,
   "metadata": {},
   "outputs": [
    {
     "data": {
      "text/html": [
       "<div>\n",
       "<style scoped>\n",
       "    .dataframe tbody tr th:only-of-type {\n",
       "        vertical-align: middle;\n",
       "    }\n",
       "\n",
       "    .dataframe tbody tr th {\n",
       "        vertical-align: top;\n",
       "    }\n",
       "\n",
       "    .dataframe thead th {\n",
       "        text-align: right;\n",
       "    }\n",
       "</style>\n",
       "<table border=\"1\" class=\"dataframe\">\n",
       "  <thead>\n",
       "    <tr style=\"text-align: right;\">\n",
       "      <th></th>\n",
       "      <th>num_weekly_services_utilized</th>\n",
       "      <th>weekly_consumption_hour</th>\n",
       "      <th>num_ideal_streaming_services</th>\n",
       "      <th>age</th>\n",
       "      <th>initial_credit_card_declined</th>\n",
       "      <th>payment_period</th>\n",
       "      <th>gender</th>\n",
       "      <th>package_base</th>\n",
       "      <th>package_econ</th>\n",
       "      <th>package_enhanced</th>\n",
       "      <th>...</th>\n",
       "      <th>intended_replace_OTT</th>\n",
       "      <th>supplement OTT</th>\n",
       "      <th>expand international access</th>\n",
       "      <th>expand regional access</th>\n",
       "      <th>education</th>\n",
       "      <th>genre_comedy</th>\n",
       "      <th>genre_drama</th>\n",
       "      <th>genre_regional</th>\n",
       "      <th>genre_international</th>\n",
       "      <th>op_ios</th>\n",
       "    </tr>\n",
       "  </thead>\n",
       "  <tbody>\n",
       "    <tr>\n",
       "      <th>count</th>\n",
       "      <td>3.000000</td>\n",
       "      <td>3.000000</td>\n",
       "      <td>3.000000</td>\n",
       "      <td>3.000000</td>\n",
       "      <td>3.000000</td>\n",
       "      <td>3.000000</td>\n",
       "      <td>3.000000</td>\n",
       "      <td>3.000000</td>\n",
       "      <td>3.000000</td>\n",
       "      <td>3.000000</td>\n",
       "      <td>...</td>\n",
       "      <td>3.000000</td>\n",
       "      <td>3.000000</td>\n",
       "      <td>3.000000</td>\n",
       "      <td>3.000000</td>\n",
       "      <td>3.000000</td>\n",
       "      <td>3.000000</td>\n",
       "      <td>3.000000</td>\n",
       "      <td>3.000000</td>\n",
       "      <td>3.000000</td>\n",
       "      <td>3.000000</td>\n",
       "    </tr>\n",
       "    <tr>\n",
       "      <th>mean</th>\n",
       "      <td>1.418536</td>\n",
       "      <td>18.998779</td>\n",
       "      <td>0.916781</td>\n",
       "      <td>44.481199</td>\n",
       "      <td>0.033000</td>\n",
       "      <td>1.294381</td>\n",
       "      <td>0.093910</td>\n",
       "      <td>0.575492</td>\n",
       "      <td>0.048026</td>\n",
       "      <td>0.347286</td>\n",
       "      <td>...</td>\n",
       "      <td>0.209307</td>\n",
       "      <td>0.158736</td>\n",
       "      <td>0.011608</td>\n",
       "      <td>0.013724</td>\n",
       "      <td>0.004192</td>\n",
       "      <td>0.746734</td>\n",
       "      <td>0.161195</td>\n",
       "      <td>0.032190</td>\n",
       "      <td>0.022411</td>\n",
       "      <td>0.691728</td>\n",
       "    </tr>\n",
       "    <tr>\n",
       "      <th>std</th>\n",
       "      <td>1.209537</td>\n",
       "      <td>16.449219</td>\n",
       "      <td>0.788069</td>\n",
       "      <td>11.281381</td>\n",
       "      <td>0.028269</td>\n",
       "      <td>0.028281</td>\n",
       "      <td>0.054421</td>\n",
       "      <td>0.099561</td>\n",
       "      <td>0.026510</td>\n",
       "      <td>0.067590</td>\n",
       "      <td>...</td>\n",
       "      <td>0.061812</td>\n",
       "      <td>0.031841</td>\n",
       "      <td>0.010939</td>\n",
       "      <td>0.012115</td>\n",
       "      <td>0.003644</td>\n",
       "      <td>0.095490</td>\n",
       "      <td>0.037349</td>\n",
       "      <td>0.022583</td>\n",
       "      <td>0.015151</td>\n",
       "      <td>0.075519</td>\n",
       "    </tr>\n",
       "    <tr>\n",
       "      <th>min</th>\n",
       "      <td>0.023231</td>\n",
       "      <td>0.004862</td>\n",
       "      <td>0.007006</td>\n",
       "      <td>32.453452</td>\n",
       "      <td>0.001926</td>\n",
       "      <td>1.275692</td>\n",
       "      <td>0.031343</td>\n",
       "      <td>0.479468</td>\n",
       "      <td>0.024378</td>\n",
       "      <td>0.296800</td>\n",
       "      <td>...</td>\n",
       "      <td>0.160264</td>\n",
       "      <td>0.122014</td>\n",
       "      <td>0.000246</td>\n",
       "      <td>0.000164</td>\n",
       "      <td>0.000205</td>\n",
       "      <td>0.686043</td>\n",
       "      <td>0.125456</td>\n",
       "      <td>0.009669</td>\n",
       "      <td>0.006719</td>\n",
       "      <td>0.642888</td>\n",
       "    </tr>\n",
       "    <tr>\n",
       "      <th>25%</th>\n",
       "      <td>1.043143</td>\n",
       "      <td>14.243947</td>\n",
       "      <td>0.680888</td>\n",
       "      <td>39.308071</td>\n",
       "      <td>0.020903</td>\n",
       "      <td>1.278113</td>\n",
       "      <td>0.075729</td>\n",
       "      <td>0.524114</td>\n",
       "      <td>0.033697</td>\n",
       "      <td>0.308893</td>\n",
       "      <td>...</td>\n",
       "      <td>0.174592</td>\n",
       "      <td>0.148771</td>\n",
       "      <td>0.006377</td>\n",
       "      <td>0.008846</td>\n",
       "      <td>0.002613</td>\n",
       "      <td>0.691699</td>\n",
       "      <td>0.141808</td>\n",
       "      <td>0.020868</td>\n",
       "      <td>0.015139</td>\n",
       "      <td>0.648237</td>\n",
       "    </tr>\n",
       "    <tr>\n",
       "      <th>50%</th>\n",
       "      <td>2.063055</td>\n",
       "      <td>28.483032</td>\n",
       "      <td>1.354771</td>\n",
       "      <td>46.162691</td>\n",
       "      <td>0.039880</td>\n",
       "      <td>1.280534</td>\n",
       "      <td>0.120114</td>\n",
       "      <td>0.568759</td>\n",
       "      <td>0.043017</td>\n",
       "      <td>0.320986</td>\n",
       "      <td>...</td>\n",
       "      <td>0.188921</td>\n",
       "      <td>0.175529</td>\n",
       "      <td>0.012508</td>\n",
       "      <td>0.017528</td>\n",
       "      <td>0.005021</td>\n",
       "      <td>0.697356</td>\n",
       "      <td>0.158159</td>\n",
       "      <td>0.032066</td>\n",
       "      <td>0.023559</td>\n",
       "      <td>0.653585</td>\n",
       "    </tr>\n",
       "    <tr>\n",
       "      <th>75%</th>\n",
       "      <td>2.116189</td>\n",
       "      <td>28.495737</td>\n",
       "      <td>1.371669</td>\n",
       "      <td>50.495073</td>\n",
       "      <td>0.048537</td>\n",
       "      <td>1.303726</td>\n",
       "      <td>0.125193</td>\n",
       "      <td>0.623504</td>\n",
       "      <td>0.059850</td>\n",
       "      <td>0.372529</td>\n",
       "      <td>...</td>\n",
       "      <td>0.233829</td>\n",
       "      <td>0.177097</td>\n",
       "      <td>0.017288</td>\n",
       "      <td>0.020505</td>\n",
       "      <td>0.006185</td>\n",
       "      <td>0.777080</td>\n",
       "      <td>0.179064</td>\n",
       "      <td>0.043450</td>\n",
       "      <td>0.030257</td>\n",
       "      <td>0.716148</td>\n",
       "    </tr>\n",
       "    <tr>\n",
       "      <th>max</th>\n",
       "      <td>2.169322</td>\n",
       "      <td>28.508441</td>\n",
       "      <td>1.388566</td>\n",
       "      <td>54.827455</td>\n",
       "      <td>0.057194</td>\n",
       "      <td>1.326918</td>\n",
       "      <td>0.130272</td>\n",
       "      <td>0.678248</td>\n",
       "      <td>0.076683</td>\n",
       "      <td>0.424073</td>\n",
       "      <td>...</td>\n",
       "      <td>0.278737</td>\n",
       "      <td>0.178665</td>\n",
       "      <td>0.022069</td>\n",
       "      <td>0.023481</td>\n",
       "      <td>0.007350</td>\n",
       "      <td>0.856803</td>\n",
       "      <td>0.199969</td>\n",
       "      <td>0.054835</td>\n",
       "      <td>0.036955</td>\n",
       "      <td>0.778711</td>\n",
       "    </tr>\n",
       "  </tbody>\n",
       "</table>\n",
       "<p>8 rows × 21 columns</p>\n",
       "</div>"
      ],
      "text/plain": [
       "       num_weekly_services_utilized  weekly_consumption_hour   \\\n",
       "count                      3.000000                  3.000000   \n",
       "mean                       1.418536                 18.998779   \n",
       "std                        1.209537                 16.449219   \n",
       "min                        0.023231                  0.004862   \n",
       "25%                        1.043143                 14.243947   \n",
       "50%                        2.063055                 28.483032   \n",
       "75%                        2.116189                 28.495737   \n",
       "max                        2.169322                 28.508441   \n",
       "\n",
       "       num_ideal_streaming_services        age  initial_credit_card_declined  \\\n",
       "count                      3.000000   3.000000                      3.000000   \n",
       "mean                       0.916781  44.481199                      0.033000   \n",
       "std                        0.788069  11.281381                      0.028269   \n",
       "min                        0.007006  32.453452                      0.001926   \n",
       "25%                        0.680888  39.308071                      0.020903   \n",
       "50%                        1.354771  46.162691                      0.039880   \n",
       "75%                        1.371669  50.495073                      0.048537   \n",
       "max                        1.388566  54.827455                      0.057194   \n",
       "\n",
       "       payment_period    gender  package_base  package_econ  package_enhanced  \\\n",
       "count        3.000000  3.000000      3.000000      3.000000          3.000000   \n",
       "mean         1.294381  0.093910      0.575492      0.048026          0.347286   \n",
       "std          0.028281  0.054421      0.099561      0.026510          0.067590   \n",
       "min          1.275692  0.031343      0.479468      0.024378          0.296800   \n",
       "25%          1.278113  0.075729      0.524114      0.033697          0.308893   \n",
       "50%          1.280534  0.120114      0.568759      0.043017          0.320986   \n",
       "75%          1.303726  0.125193      0.623504      0.059850          0.372529   \n",
       "max          1.326918  0.130272      0.678248      0.076683          0.424073   \n",
       "\n",
       "       ...  intended_replace_OTT  supplement OTT  expand international access  \\\n",
       "count  ...              3.000000        3.000000                     3.000000   \n",
       "mean   ...              0.209307        0.158736                     0.011608   \n",
       "std    ...              0.061812        0.031841                     0.010939   \n",
       "min    ...              0.160264        0.122014                     0.000246   \n",
       "25%    ...              0.174592        0.148771                     0.006377   \n",
       "50%    ...              0.188921        0.175529                     0.012508   \n",
       "75%    ...              0.233829        0.177097                     0.017288   \n",
       "max    ...              0.278737        0.178665                     0.022069   \n",
       "\n",
       "       expand regional access  education  genre_comedy  genre_drama  \\\n",
       "count                3.000000   3.000000      3.000000     3.000000   \n",
       "mean                 0.013724   0.004192      0.746734     0.161195   \n",
       "std                  0.012115   0.003644      0.095490     0.037349   \n",
       "min                  0.000164   0.000205      0.686043     0.125456   \n",
       "25%                  0.008846   0.002613      0.691699     0.141808   \n",
       "50%                  0.017528   0.005021      0.697356     0.158159   \n",
       "75%                  0.020505   0.006185      0.777080     0.179064   \n",
       "max                  0.023481   0.007350      0.856803     0.199969   \n",
       "\n",
       "       genre_regional  genre_international    op_ios  \n",
       "count        3.000000             3.000000  3.000000  \n",
       "mean         0.032190             0.022411  0.691728  \n",
       "std          0.022583             0.015151  0.075519  \n",
       "min          0.009669             0.006719  0.642888  \n",
       "25%          0.020868             0.015139  0.648237  \n",
       "50%          0.032066             0.023559  0.653585  \n",
       "75%          0.043450             0.030257  0.716148  \n",
       "max          0.054835             0.036955  0.778711  \n",
       "\n",
       "[8 rows x 21 columns]"
      ]
     },
     "execution_count": 486,
     "metadata": {},
     "output_type": "execute_result"
    }
   ],
   "source": [
    "x.describe()"
   ]
  },
  {
   "cell_type": "markdown",
   "metadata": {},
   "source": [
    "#### Clustering for all customers"
   ]
  },
  {
   "cell_type": "code",
   "execution_count": 374,
   "metadata": {},
   "outputs": [],
   "source": [
    "df_cluster2 = df1.copy()"
   ]
  },
  {
   "cell_type": "code",
   "execution_count": 376,
   "metadata": {},
   "outputs": [],
   "source": [
    "del df_cluster2[\"male_TF\"]\n",
    "del df_cluster2[\"country\"]\n",
    "del df_cluster2[\"attribution_technical\"]\n",
    "del df_cluster2[\"attribution_survey\"]\n",
    "del df_cluster2[\"language\"]\n",
    "del df_cluster2[\"payment_type\"]\n",
    "del df_cluster2[\"cancel_date\"]\n",
    "del df_cluster2[\"plan_type\"]\n",
    "del df_cluster2[\"account_creation_date\"]\n",
    "del df_cluster2[\"trial_end_date\"]\n",
    "del df_cluster2[\"num_trial_days\"]\n",
    "del df_cluster2[\"join_fee\"]\n",
    "del df_cluster2[\"monthly_price\"]\n",
    "del df_cluster2[\"discount_price\"]\n",
    "del df_cluster2[\"months_per_bill_period\"]\n",
    "del df_cluster2[\"trial_completed\"]\n",
    "del df_cluster2[\"current_sub_TF\"]"
   ]
  },
  {
   "cell_type": "code",
   "execution_count": 377,
   "metadata": {},
   "outputs": [],
   "source": [
    "#Turn package_type to numeric\n",
    "\n",
    "df_cluster2.loc[df_cluster2['package_type'] != \"base\",'package_base'] = 0\n",
    "df_cluster2.loc[df_cluster2['package_type'] == \"base\",'package_base'] = 1\n",
    "\n",
    "del df_cluster2[\"package_type\"]\n",
    "\n",
    "#Turn preferred_genre to numeric\n",
    "\n",
    "df_cluster2.loc[df_cluster2['preferred_genre'] != \"comedy\",'genre_comedy'] = 0\n",
    "df_cluster2.loc[df_cluster2['preferred_genre'] == \"comedy\",'genre_comedy'] = 1\n",
    "\n",
    "del df_cluster2[\"preferred_genre\"]\n",
    "\n",
    "#Turn intended_use to numeric\n",
    "\n",
    "\n",
    "df_cluster2.loc[df_cluster2[\"intended_use\"] != \"access to exclusive content\",'intended_exclusive'] = 0\n",
    "df_cluster2.loc[df_cluster2[\"intended_use\"] == \"access to exclusive content\",'intended_exclusive'] = 1\n",
    "\n",
    "df_cluster2.loc[df_cluster2[\"intended_use\"] != \"replace OTT\",'intended_replace_OTT'] = 0\n",
    "df_cluster2.loc[df_cluster2[\"intended_use\"] == \"replace OTT\",'intended_replace_OTT'] = 1\n",
    "\n",
    "del df_cluster2[\"intended_use\"]\n",
    "\n",
    "#Turn op_sys\n",
    "\n",
    "df_cluster2.loc[df_cluster2['op_sys'] != \"iOS\",'op_ios'] = 0\n",
    "df_cluster2.loc[df_cluster2['op_sys'] == \"iOS\",'op_ios'] = 1\n",
    "\n",
    "del df_cluster2['op_sys']"
   ]
  },
  {
   "cell_type": "code",
   "execution_count": 497,
   "metadata": {},
   "outputs": [
    {
     "data": {
      "image/png": "[encoded data removed]",
      "text/plain": [
       "<Figure size 432x288 with 1 Axes>"
      ]
     },
     "metadata": {
      "needs_background": "light"
     },
     "output_type": "display_data"
    }
   ],
   "source": [
    "fitting(df_cluster2)"
   ]
  },
  {
   "cell_type": "code",
   "execution_count": 379,
   "metadata": {},
   "outputs": [
    {
     "data": {
      "text/html": [
       "<div>\n",
       "<style scoped>\n",
       "    .dataframe tbody tr th:only-of-type {\n",
       "        vertical-align: middle;\n",
       "    }\n",
       "\n",
       "    .dataframe tbody tr th {\n",
       "        vertical-align: top;\n",
       "    }\n",
       "\n",
       "    .dataframe thead th {\n",
       "        text-align: right;\n",
       "    }\n",
       "</style>\n",
       "<table border=\"1\" class=\"dataframe\">\n",
       "  <thead>\n",
       "    <tr style=\"text-align: right;\">\n",
       "      <th></th>\n",
       "      <th>num_weekly_services_utilized</th>\n",
       "      <th>weekly_consumption_hour</th>\n",
       "      <th>num_ideal_streaming_services</th>\n",
       "      <th>age</th>\n",
       "      <th>initial_credit_card_declined</th>\n",
       "      <th>payment_period</th>\n",
       "      <th>gender</th>\n",
       "      <th>package_base</th>\n",
       "      <th>genre_Comedy</th>\n",
       "      <th>intended_exclusive</th>\n",
       "      <th>intended_replace_OTT</th>\n",
       "      <th>op_ios</th>\n",
       "    </tr>\n",
       "  </thead>\n",
       "  <tbody>\n",
       "    <tr>\n",
       "      <th>0</th>\n",
       "      <td>0.029609</td>\n",
       "      <td>0.017656</td>\n",
       "      <td>0.011985</td>\n",
       "      <td>46.199433</td>\n",
       "      <td>0.001918</td>\n",
       "      <td>0.921155</td>\n",
       "      <td>0.046613</td>\n",
       "      <td>0.683633</td>\n",
       "      <td>0.776860</td>\n",
       "      <td>0.536772</td>\n",
       "      <td>0.359765</td>\n",
       "      <td>0.773532</td>\n",
       "    </tr>\n",
       "    <tr>\n",
       "      <th>1</th>\n",
       "      <td>1.951970</td>\n",
       "      <td>27.897124</td>\n",
       "      <td>1.321781</td>\n",
       "      <td>56.989707</td>\n",
       "      <td>0.037492</td>\n",
       "      <td>0.643529</td>\n",
       "      <td>0.132236</td>\n",
       "      <td>0.480653</td>\n",
       "      <td>0.485247</td>\n",
       "      <td>0.392533</td>\n",
       "      <td>0.264756</td>\n",
       "      <td>0.644209</td>\n",
       "    </tr>\n",
       "    <tr>\n",
       "      <th>2</th>\n",
       "      <td>1.976328</td>\n",
       "      <td>28.121011</td>\n",
       "      <td>1.360822</td>\n",
       "      <td>34.138015</td>\n",
       "      <td>0.053517</td>\n",
       "      <td>0.916268</td>\n",
       "      <td>0.118991</td>\n",
       "      <td>0.434405</td>\n",
       "      <td>0.556426</td>\n",
       "      <td>0.344223</td>\n",
       "      <td>0.343301</td>\n",
       "      <td>0.657344</td>\n",
       "    </tr>\n",
       "  </tbody>\n",
       "</table>\n",
       "</div>"
      ],
      "text/plain": [
       "   num_weekly_services_utilized  weekly_consumption_hour   \\\n",
       "0                      0.029609                  0.017656   \n",
       "1                      1.951970                 27.897124   \n",
       "2                      1.976328                 28.121011   \n",
       "\n",
       "   num_ideal_streaming_services        age  initial_credit_card_declined  \\\n",
       "0                      0.011985  46.199433                      0.001918   \n",
       "1                      1.321781  56.989707                      0.037492   \n",
       "2                      1.360822  34.138015                      0.053517   \n",
       "\n",
       "   payment_period    gender  package_base  genre_Comedy  intended_exclusive  \\\n",
       "0        0.921155  0.046613      0.683633      0.776860            0.536772   \n",
       "1        0.643529  0.132236      0.480653      0.485247            0.392533   \n",
       "2        0.916268  0.118991      0.434405      0.556426            0.344223   \n",
       "\n",
       "   intended_replace_OTT    op_ios  \n",
       "0              0.359765  0.773532  \n",
       "1              0.264756  0.644209  \n",
       "2              0.343301  0.657344  "
      ]
     },
     "execution_count": 379,
     "metadata": {},
     "output_type": "execute_result"
    }
   ],
   "source": [
    "#determine K=3\n",
    "kmean_all=KMeans(n_clusters=3).fit(df_cluster2)\n",
    "\n",
    "x_all = pd.DataFrame(kmean_all.cluster_centers_, columns=[\"num_weekly_services_utilized\",\"weekly_consumption_hour \",\"num_ideal_streaming_services\",\"age\",\"initial_credit_card_declined\",\n",
    "                                                 \"payment_period\",\"gender\",\"package_base\",\"genre_Comedy\",\"intended_exclusive\",\"intended_replace_OTT\",\"op_ios\"])\n",
    "x_all"
   ]
  },
  {
   "cell_type": "markdown",
   "metadata": {},
   "source": [
    "### Churn Model (Logistic)"
   ]
  },
  {
   "cell_type": "code",
   "execution_count": 407,
   "metadata": {},
   "outputs": [],
   "source": [
    "from sklearn.datasets import load_iris\n",
    "from sklearn.linear_model import LogisticRegression\n",
    "from sklearn.model_selection import train_test_split\n",
    "from sklearn.metrics import accuracy_score\n",
    "\n",
    "import matplotlib.pyplot as plt\n",
    "from sklearn.datasets import make_classification\n",
    "from sklearn.metrics import plot_confusion_matrix\n",
    "from sklearn.svm import SVC"
   ]
  },
  {
   "cell_type": "code",
   "execution_count": 388,
   "metadata": {},
   "outputs": [],
   "source": [
    "df_churn = df1.copy()"
   ]
  },
  {
   "cell_type": "code",
   "execution_count": 389,
   "metadata": {},
   "outputs": [],
   "source": [
    "del df_churn[\"male_TF\"]\n",
    "del df_churn[\"country\"]\n",
    "del df_churn[\"attribution_technical\"]\n",
    "del df_churn[\"attribution_survey\"]\n",
    "del df_churn[\"language\"]\n",
    "del df_churn[\"payment_type\"]\n",
    "del df_churn[\"cancel_date\"]\n",
    "del df_churn[\"plan_type\"]\n",
    "del df_churn[\"account_creation_date\"]\n",
    "del df_churn[\"trial_end_date\"]\n",
    "del df_churn[\"num_trial_days\"]\n",
    "del df_churn[\"join_fee\"]\n",
    "del df_churn[\"monthly_price\"]\n",
    "del df_churn[\"discount_price\"]\n",
    "del df_churn[\"months_per_bill_period\"]\n",
    "del df_churn[\"trial_completed\"]\n",
    "del df_churn[\"payment_period\"]"
   ]
  },
  {
   "cell_type": "code",
   "execution_count": 390,
   "metadata": {},
   "outputs": [],
   "source": [
    "#Turn package_type to numeric\n",
    "df_churn.loc[df_churn['package_type'] != \"base\",'package_base'] = 0\n",
    "df_churn.loc[df_churn['package_type'] == \"base\",'package_base'] = 1\n",
    "del df_churn[\"package_type\"]\n",
    "\n",
    "#Turn preferred_genre to numeric\n",
    "df_churn.loc[df_churn['preferred_genre'] != \"comedy\",'genre_comedy'] = 0\n",
    "df_churn.loc[df_churn['preferred_genre'] == \"comedy\",'genre_comedy'] = 1\n",
    "del df_churn[\"preferred_genre\"]\n",
    "\n",
    "#Turn intended_use to numeric\n",
    "df_churn.loc[df_churn[\"intended_use\"] != \"access to exclusive content\",'intended_exclusive'] = 0\n",
    "df_churn.loc[df_churn[\"intended_use\"] == \"access to exclusive content\",'intended_exclusive'] = 1\n",
    "df_churn.loc[df_churn[\"intended_use\"] != \"replace OTT\",'intended_replace_OTT'] = 0\n",
    "df_churn.loc[df_churn[\"intended_use\"] == \"replace OTT\",'intended_replace_OTT'] = 1\n",
    "del df_churn[\"intended_use\"]\n",
    "\n",
    "#Turn op_sys\n",
    "df_churn.loc[df_churn['op_sys'] != \"iOS\",'op_ios'] = 0\n",
    "df_churn.loc[df_churn['op_sys'] == \"iOS\",'op_ios'] = 1\n",
    "del df_churn['op_sys']"
   ]
  },
  {
   "cell_type": "code",
   "execution_count": 391,
   "metadata": {},
   "outputs": [
    {
     "name": "stdout",
     "output_type": "stream",
     "text": [
      "<class 'pandas.core.frame.DataFrame'>\n",
      "Int64Index: 210428 entries, 0 to 227627\n",
      "Data columns (total 12 columns):\n",
      " #   Column                        Non-Null Count   Dtype  \n",
      "---  ------                        --------------   -----  \n",
      " 0   num_weekly_services_utilized  210428 non-null  float64\n",
      " 1   weekly_consumption_hour       210428 non-null  float64\n",
      " 2   num_ideal_streaming_services  210428 non-null  float64\n",
      " 3   age                           210428 non-null  float64\n",
      " 4   initial_credit_card_declined  210428 non-null  bool   \n",
      " 5   current_sub_TF                210428 non-null  bool   \n",
      " 6   gender                        210428 non-null  float64\n",
      " 7   package_base                  210428 non-null  float64\n",
      " 8   genre_comedy                  210428 non-null  float64\n",
      " 9   intended_exclusive            210428 non-null  float64\n",
      " 10  intended_replace_OTT          210428 non-null  float64\n",
      " 11  op_ios                        210428 non-null  float64\n",
      "dtypes: bool(2), float64(10)\n",
      "memory usage: 28.1 MB\n"
     ]
    }
   ],
   "source": [
    "df_churn.info()"
   ]
  },
  {
   "cell_type": "code",
   "execution_count": 392,
   "metadata": {},
   "outputs": [],
   "source": [
    "X = df_churn[[\"num_weekly_services_utilized\",\"weekly_consumption_hour\",\"num_ideal_streaming_services\",\"age\",\n",
    "             \"initial_credit_card_declined\",\"gender\",\"package_base\",\"genre_comedy\",\"intended_exclusive\",\n",
    "             \"intended_replace_OTT\",\"op_ios\"]]\n",
    "y = df_churn[\"current_sub_TF\"]"
   ]
  },
  {
   "cell_type": "code",
   "execution_count": 396,
   "metadata": {},
   "outputs": [
    {
     "name": "stdout",
     "output_type": "stream",
     "text": [
      "(140986, 11) (69442, 11) (140986,) (69442,)\n"
     ]
    }
   ],
   "source": [
    "X_train, X_test, y_train, y_test = train_test_split(X, y, test_size=0.33)\n",
    "print(X_train.shape, X_test.shape, y_train.shape, y_test.shape)"
   ]
  },
  {
   "cell_type": "code",
   "execution_count": 400,
   "metadata": {},
   "outputs": [
    {
     "data": {
      "text/plain": [
       "LogisticRegression(max_iter=3000)"
      ]
     },
     "execution_count": 400,
     "metadata": {},
     "output_type": "execute_result"
    }
   ],
   "source": [
    "lr=LogisticRegression(max_iter=3000)\n",
    "lr.fit(X_train,y_train)"
   ]
  },
  {
   "cell_type": "code",
   "execution_count": 401,
   "metadata": {},
   "outputs": [],
   "source": [
    "predicted_list=lr.predict(X_test)"
   ]
  },
  {
   "cell_type": "code",
   "execution_count": 404,
   "metadata": {},
   "outputs": [
    {
     "data": {
      "text/plain": [
       "0.7790962241870913"
      ]
     },
     "execution_count": 404,
     "metadata": {},
     "output_type": "execute_result"
    }
   ],
   "source": [
    "score_1=accuracy_score(y_test,predicted_list)\n",
    "score_1"
   ]
  },
  {
   "cell_type": "code",
   "execution_count": 412,
   "metadata": {},
   "outputs": [
    {
     "name": "stdout",
     "output_type": "stream",
     "text": [
      "Logistic: ROC AUC=0.771\n"
     ]
    },
    {
     "data": {
      "image/png": "[encoded data removed]",
      "text/plain": [
       "<Figure size 432x288 with 1 Axes>"
      ]
     },
     "metadata": {
      "needs_background": "light"
     },
     "output_type": "display_data"
    }
   ],
   "source": [
    "\n",
    "# roc curve and auc\n",
    "from sklearn.datasets import make_classification\n",
    "from sklearn.linear_model import LogisticRegression\n",
    "from sklearn.model_selection import train_test_split\n",
    "from sklearn.metrics import roc_curve\n",
    "from sklearn.metrics import roc_auc_score\n",
    "from matplotlib import pyplot\n",
    "\n",
    "\n",
    "lr_auc = roc_auc_score(y_test,predicted_list)\n",
    "\n",
    "# summarize scores\n",
    "print('Logistic: ROC AUC=%.3f' % (lr_auc))\n",
    "# calculate roc curves\n",
    "lr_fpr, lr_tpr, _ = roc_curve(y_test,predicted_list)\n",
    "# plot the roc curve for the model\n",
    "pyplot.plot(lr_fpr, lr_tpr, marker='.', label='Logistic')\n",
    "# axis labels\n",
    "pyplot.xlabel('False Positive Rate')\n",
    "pyplot.ylabel('True Positive Rate')\n",
    "# show the legend\n",
    "pyplot.legend()\n",
    "# show the plot\n",
    "pyplot.show()"
   ]
  },
  {
   "cell_type": "code",
   "execution_count": null,
   "metadata": {},
   "outputs": [],
   "source": []
  },
  {
   "cell_type": "code",
   "execution_count": 494,
   "metadata": {},
   "outputs": [],
   "source": [
    "from sklearn.ensemble import GradientBoostingClassifier\n",
    "from sklearn.model_selection import GridSearchCV"
   ]
  },
  {
   "cell_type": "code",
   "execution_count": 496,
   "metadata": {},
   "outputs": [
    {
     "name": "stdout",
     "output_type": "stream",
     "text": [
      "best score is: 0.8047027885460759\n",
      "best params are: {'max_depth': 4, 'n_estimators': 140}\n"
     ]
    }
   ],
   "source": [
    "param_test = {'n_estimators': range(100, 150, 10),'max_depth':  range(2, 5, 1)}\n",
    "\n",
    "estimator = GradientBoostingClassifier()\n",
    "\n",
    "gsearch = GridSearchCV(estimator , param_grid = param_test, cv=5)\n",
    "gsearch.fit(X,y)\n",
    "gsearch.best_params_, gsearch.best_score_\n",
    "\n",
    "print('best score is:',str(gsearch.best_score_))\n",
    "print('best params are:',str(gsearch.best_params_))\n"
   ]
  },
  {
   "cell_type": "code",
   "execution_count": 359,
   "metadata": {},
   "outputs": [],
   "source": [
    "clf = GradientBoostingClassifier(max_depth = 4, n_estimators = 120)"
   ]
  }
 ],
 "metadata": {
  "kernelspec": {
   "display_name": "Python 3",
   "language": "python",
   "name": "python3"
  },
  "language_info": {
   "codemirror_mode": {
    "name": "ipython",
    "version": 3
   },
   "file_extension": ".py",
   "mimetype": "text/x-python",
   "name": "python",
   "nbconvert_exporter": "python",
   "pygments_lexer": "ipython3",
   "version": "3.8.5"
  }
 },
 "nbformat": 4,
 "nbformat_minor": 4
}
